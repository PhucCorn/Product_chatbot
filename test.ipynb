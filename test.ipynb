{
 "cells": [
  {
   "cell_type": "code",
   "execution_count": 21,
   "metadata": {},
   "outputs": [
    {
     "name": "stdout",
     "output_type": "stream",
     "text": [
      "<class 'list'>\n",
      "before sum\n",
      "Limit Token: Hệ thống sẽ chạy lại\n"
     ]
    }
   ],
   "source": [
    "import re\n",
    "from langchain_core.documents import Document\n",
    "from langchain_community.document_loaders import TextLoader\n",
    "from splitter import *\n",
    "from retriever import *\n",
    "\n",
    "# Định nghĩa regex pattern cho các tiêu đề (sections)\n",
    "patterns = [\n",
    "    r'(?<=\\n)Chương \\d+: .+',  # Mục lớn như \"Chương 1: TỔNG QUAN VỀ BAO BÌ\"\n",
    "    r'(?<=\\n)\\d+\\.\\d+ .+',  # Mục nhỏ hơn như \"1.1 ĐẶC ĐIỂM CHUNG\"\n",
    "    r'(?<=\\n)\\d+\\.\\d+\\.\\d+ .+',  # Mục nhỏ hơn nữa như \"1.1.1 Đặc điểm chung của bao bì\"\n",
    "    r'(?<=\\n)\\d+\\.\\d+\\.\\d+\\.\\d+ .+'  # Mục nhỏ hơn nữa như \"1.1.2.1 Tính năng chứa đựng sản phẩm\"\n",
    "]\n",
    "\n",
    "# Chia tài liệu thành các đoạn\n",
    "loaders = TextLoader(\"doc/\"+\"spkt.txt\", encoding = 'UTF-8')\n",
    "docs = [loaders.load()]\n",
    "splitter = PatternSplitter(patterns)\n",
    "split_docs = splitter.split_documents(docs[0])\n",
    "# In các đoạn\n",
    "def beautiful_print(split_docs):\n",
    "    for split_doc in split_docs:\n",
    "        print(\" \".join([split_doc.metadata['chapter'],split_doc.metadata['section'],split_doc.metadata['subsection'],split_doc.metadata['subsubsection'],]))\n",
    "        if type(split_doc.metadata['summary']) is str:\n",
    "            print(split_doc.metadata['summary'][:50])\n",
    "        else:\n",
    "            print(split_doc.metadata['summary'])\n",
    "        print(\"----------\")\n",
    "        beautiful_print(split_doc.metadata[\"subtree\"])\n",
    "\n",
    "         \n",
    "beautiful_print(split_docs)\n"
   ]
  },
  {
   "cell_type": "code",
   "execution_count": 20,
   "metadata": {},
   "outputs": [
    {
     "name": "stdout",
     "output_type": "stream",
     "text": [
      "    characteristics of packaging from cardboard boxes type group B\n",
      "Bao bì hộp từ giấy bìa: Là bao bì dạng hộp được sản xuất từ giấy bìa (giấy có định lượng lớn hơn 160 g/m²). Hộp bao gồm một hay nhiều mảnh được cấn và bế. Các đường bế tạo đường viền mảnh hộp, các đường cấn tạo đường nếp để gấp hộp, các mảnh bế sau đó có thể được gấp và dán. Các hộp sau khi gấp dán được lưu trữ và vận chuyển đến khách hàng ở thể phẳng, sau đó được dựng thành hộp trong quá trình đóng gói.\n",
      "Các mảnh bế là các mảnh phẳng có các đường viền được cắt theo hình dạng trải phẳng của hộp. Các đường phân cách giữa các diện của hộp là các đường cần có nhiệm vụ tạo nếp gấp, các đường này là cơ sở cho việc dựng hộp từ khổ phẳng sang không gian ba chiều.\n",
      "Do tính dễ vận chuyển, lưu trữ nên các dạng hộp hình hộp chữ nhật được sử dụng rộng rãi trong công nghiệp và cuộc sống. Ngoài bao bì dạng hình hộp chữ nhật, với đặc tính dễ định hình của giấy bìa và khả năng linh hoạt của quá trình cấn bế, và yêu cầu hấp dẫn người tiêu dùng, bao bì hộp từ giấy bìa có rất nhiều hình dạng khác nhau.\n",
      "Các mẫu hộp khá phong phú, từ những dạng hộp cơ bản có thân là hình hộp chữ nhật với nắp (đáy) dán đơn giản thuận tiện khi đóng gói trên dây chuyền tự động, đến các kiểu hộp có thân là những hình đặc biệt như lăng trụ đáy lục giác, bát giác hay hình chóp, chóp cụt với các kiểu nắp cài xoăn đặc biệt tạo hình như những bông hoa, từ các dạng hộp có dạng trụ ống đến các dạng hộp dạng khay nông. Để tạo thuận tiện cho việc lựa chọn kiểu dáng bao bì hộp, trong quá trình phát triển hệ thống bao bì cần tham khảo các bộ thư viện về kiểu dáng bao bì.\n",
      "Một trong những thư viện mẫu hộp được sử dụng thông dụng nhất là European Carton Makers Association code book. Đây là thư viện các mẫu hộp đã được ECMA thu thập, phân nhóm và mã hoá.\n",
      "ECMA code book mã hóa các dạng hộp cơ bản theo các nhóm như sau:\n",
      "- A- Các dạng hộp hình hộp chữ nhật, được dán nối ở cạnh hông, các mặt hộp kế cạnh nhau nằm trên những mặt phẳng vuông góc với nhau.\n",
      "- B- Các dạng hộp hình hộp chữ nhật không có các mối dán hông, dạng khay. Việc ghép nối các cạnh được hình thành bởi các kiểu gài khác nhau, hoặc dán ở góc.\n",
      "- C- Các dạng hộp không phải là hình hộp chữ nhật, được dán nối ở cạnh hông, một số mặt của hộp không phải là hình chữ nhật, có thể tạo với mặt hộp chính một góc nhọn hoặc tù.\n",
      "- D- Các dạng hộp không phải hình hộp chữ nhật, không có các mối dán hông, dạng khay. Việc ghép nối các cạnh được hình thành bởi các kiểu gài khác nhau, hoặc dán ở góc\n",
      "- E- Đây là những dạng hộp dành để đóng gói một nhóm sản phẩm: như một lốc bia, một chục trứng...\n",
      "- F- Các dạng hộp có cấu trúc đặc biệt không nằm trong nhóm từ A-E\n",
      "* Các dạng hộp nhóm A còn được gọi là tube style. Các dạng hộp này đều được dán hông trên thiết bị gấp dán tự động theo sơ dồ hình 2.13, keo được bôi ở tai dán ở mặt in, sau đó hộp được gấp theo đường gấp thứ 2 và thứ 4 của hộp, hộp được ép và dán mí hông với nhau (hình 2.13, hình 2.20)\n",
      "Cách dán hông này ứng dụng để dán hông hộp cho các dạng hộp hình trụ khác có đáy là hình lục giác, bát giác.. (hình 2.14)\n",
      "Trong mỗi nhóm hộp, các dạng hộp được phân loại nhỏ hơn theo đặc điểm của các hình dạng nắp, hình dạng đáy hộp, kiểu gài nắp, kiểu cài đáy....tương ứng với các đặc điểm này là công năng tăng thêm, các phương án cấn bế, dán hộp và dựng hộp, đóng nắp hộp khi đóng gói bao bì.\n",
      "Hình 2.15 mô tả hộp A110 (theo phân loại của ECMA). Đây là dạng hộp cài nắp vô cùng thông dụng, được sử dụng khá rộng rãi để đóng gói hầu hết các dạng sản phẩm. Hộp có khả năng được dán hông tự động trên máy gấp dán hộp (hình 2.13), được dựng hộp, rót sản phẩm và đóng nắp trên các dây chuyển đóng gói tự động. Người ta có thể bổ sung thêm một số chi tiết để cải tiến hỗ trợ khả năng cài khóa hộp (hình 2.16, 2.18) hoặc hỗ trợ việc xé hộp (hình 2.17).\n",
      "Hình 2.19 mô tả hộp A220 (theo phân loại của ECMA). Đây là dạng hộp dán nắp vô cùng thông dụng, được sử dụng khá rộng rãi để đóng gói hầu hết các dạng sản phẩm. Hộp có khả năng được dán hông tự động trên máy gấp dán hộp (hình 2.20); hộp được dựng, rót sản phẩm và đóng nắp trên các dây chuyền đóng gói tự động hình 2.21\n",
      "Hình dạng của nắp cài này được cải tiến hoặc bổ sung thêm một số chi tiết để hộp vẫn giữ được khả năng đóng gói và dán nắp trên dây chuyền đóng gói tự động, như nguyên mẫu của nó, đồng thời bổ sung thêm khả năng cài nắp để đóng kín hộp trong quá trình sử dụng sau khi đã mở keo dán nắp hộp (hình2.22)\n",
      "Ngoài hai dạng nắp cài tiêu chuẩn (A110) và nắp dán tiêu chuẩn (A-220) cùng một số biến thể của nó như đã trình bày ở trên, còn có một số kiểu cài, khóa nắp và đáy khác.\n",
      "Hình 2.23 mô tả dạng đáy hộp cài khóa (mã đáy cài và khóa 04 -Snap lock base) và cách thức cài khóa đáy hộp.\n",
      "Hình 2.24 mô tả dạng đáy hộp dán khóa (mã đáy dán và khóa 05- Crashlock base). Dạng đáy này được dán trên thiết bị gấp dán hộp tự động cùng lúc với dán hông hộp theo sơ đồ hình 2.25. Sau đó hộp sẽ được dựng lên trong dây chuyền đóng gói. Lúc này đáy hộp đã dán trước sẽ được gài chặt tự động. Đây là một kiểu đáy hộp rất tiện lợi cho các dây chuyền đóng gói, vì đáy hộp được khóa chắc và khi đóng gói bớt được công đoạn cài đáy hộp (hình 2.26).\n",
      "Ngoài các kiểu nắp và đáy hộp thông dụng như đã trình bày trên các dạng hộp còn có các kiểu nắp và đáy hộp khác như các dạng nắp cài vặn xoắn tạo hình nắp để trang trí- hình 2.27; các dạng nắp được cài chặt khi chèn và khóa các tai vào nhau - hình 2.28; các dạng nắp cài kết hợp công năng làm vách ngăn trong lòng hộp hình 2.29; nắp cài kết hợp công năng làm quai xách - hình 2.30.\n",
      "* Các dạng hộp nhóm B còn được gọi là tray style, gồm các dạng hộp hình hộp chữ nhật không có các mối dán hông. Việc ghép nối các cạnh được hình thành bởi các kiểu gài khác nhau hoặc được dán ở các góc trên thiết bị gấp dán tự động.\n",
      "Dạng khay dán cơ bản là khay dán bốn góc (4 corner boxes - hình 2.31). Khay sau khi bế, sẽ được dán bốn góc trên thiết bị gấp dán hộp tự động (hình 2.32). Khay được giao hàng khi ở dạng xếp phẳng nên rất gọn và dễ vận chuyển, đồng thời, khi đóng gói khay được dựng nhanh chóng trên dây chuyền đóng gói không cần các công đoạn dán hay cài hộp (hình 2.33), vì vậy chúng được sử dụng rộng rãi. \n",
      "Dạng khay dán cơ bản khác là khay dán sáu góc (6 corner boxes hình 2.34). Khác với khay dán bốn góc, khay dán sáu góc bao gồm phần đáy và nắp, hộp sau khi bế sẽ được dán sáu góc trên thiết bị gấp dán hộp tự động (hình 2.35). Hộp được giao hàng khi ở dạng xếp phẳng nên rất gọn và dễ vận chuyển; đồng thời, khi đóng gói, khay được dựng nhanh chóng trên dây chuyền đóng gói không cần các công đoạn dán hay cài hộp (hình 2.36), vì vậy chúng cũng được sử dụng rộng rãi.\n",
      "Dạng khay dán bốn góc có nắp (4 corner boxes with lid) cũng được dán như hộp dán bốn góc trên thiết bị gấp dán. Tuy nhiên khay có thêm nắp đóng (hình 2.37)\n",
      "Ba dạng khay trên có chung đặc điểm là các góc hộp được dán trên thiết bị gấp dán hộp trước khi giao cho nhà sản xuất để đóng gói. Tuy nhiên, để đảm bảo sau khi dán khay vẫn có thể xếp thành dạng phẳng, các khay trên bắt buộc phải có các đường cần xéo một góc 45 độ tại những góc cần dán. Chính đường gấp này làm mất tính thẩm mỹ của hộp khi trưng bày, vì vậy các nhà sản xuất thường sử dụng dạng khay bốn hoặc sáu góc (hình 2.38 và 2.39); hộp được bế và giao các mảnh bế cho nhà sản xuất hàng tiêu dùng; hộp không được dán trên thiết bị gấp dán hộp mà được dựng hộp, dán góc trên dây chuyền đóng gói (hình 2.40)\n",
      "Với các dạng khay, yêu cầu chịu lực lên thành khay là rất quan trọng nên, trong các trường hợp cần thiết, người ta sử dụng các dạng khay có thành khay đôi (hình 2.41; 2.42) hoặc thành khay có cấu trúc rỗng, tạo các thành khay có bề dày lớn (hình 2.43), với các cấu trúc cài chặt khác nhau, không sử dụng phương án dán các góc khay. Còn có rất nhiều dạng khay thuộc nhóm B với các kiểu cài khác nhau; có thể tham khảo thêm các dạng khay ở bảng 6.3 (chương 6)\n",
      "* Các dạng hộp nhóm C: cũng có dạng ống giống nhóm A, được dán nối ở cạnh hông, tuy nhiên một số mặt của hộp không phải là hình chữ nhật, có thể tạo với mặt hộp chính một góc nhọn hoặc tù.\n",
      "Thân hộp nhóm C có thể là hình lăng trụ đáy tam giác, ngũ giác, lục giác hoặc bát giác, cũng có thể là hình chóp cụt, hình chóp với đáy là hình tam giác, hình chữ nhật, hình ngũ giác, hình bát giác. Tương tự như các hộp nhóm A, nắp và đáy của các hộp nhóm C cũng bao gồm các dạng cơ bản như: các dạng nắp gài, dạng đáy hộp cài khóa, dán khóa, hoặc cài xoắn tạo hình hoa trang trí, hoặc kết hợp phần nắp với tai treo, kết hợp nắp với quai xách... Các nắp và đáy của hộp thuộc nhóm C sẽ thay đổi hình dạng thích hợp với hình dạng của thân hộp và kiểu cài nắp, đáy (hình 2.44).\n",
      "Với một số dạng hộp nhóm C, sau khi bế cũng có thể dán hông trên thiết bị gấp dán hộp tự động nếu hộp có dạng hình lăng trụ. Riêng các dạng hộp hình chóp và hình chóp cụt việc dán hông sẽ thực hiện thủ công.\n",
      "* Các dạng hộp nhóm D: cũng có dạng khay giống nhóm B, không có dán nối ở cạnh hông, tuy nhiên một số mặt của hộp không phải là hình chữ nhật như khay nhóm B. Các khay nhóm D có thể là hình lăng trụ đáy tam giác, ngũ giác, lục giác hoặc bát giác; cũng có thể là hình chóp cụt với đáy là hình tam giác, hình chữ nhật, hình ngũ giác, hình bát giác. Giống như các khay nhóm B, các khay nhóm D ghép nối các cạnh bởi các cách gài góc khác nhau, hoặc dán ở các góc. Các thành của khay nhóm D cũng giống khay nhóm B có dạng thành một lớp, thành hai lớp, thành có bề dày, hoặc có nắp đậy (hình 2.45).\n"
     ]
    }
   ],
   "source": [
    "from util import *\n",
    "from retriever import *\n",
    "\n",
    "question = \"đặc điểm của bao bì từ hộp giấy bìa dạng hộp nhóm B\"\n",
    "en_question = vn_2_en(question)\n",
    "print(en_question)\n",
    "retriever = TreeRetriever(documents=split_docs)\n",
    "result = retriever.invoke(en_question)\n",
    "print(result.page_content)"
   ]
  },
  {
   "cell_type": "code",
   "execution_count": 10,
   "metadata": {},
   "outputs": [
    {
     "name": "stdout",
     "output_type": "stream",
     "text": [
      "page_content='Xác định các thông tin cần thiết: - Thông tin về sản phẩm:\n",
      "+ Kích thước và thể tích của sản phẩm bên trong\n",
      "+ Sản phẩm có cần không gian để dịch chuyển, hay cứng, hoặc có thể nén được\n",
      "+ Khối lượng sản phẩm\n",
      "+ Cấp độ của bao bì\n",
      "+ Số lượng sản phẩm trong bao bì\n",
      "+ Sản phẩm là chất khí, rắn, chất lỏng, bột hay kem: Nếu là chất khí phải quan tâm đến thể tích, áp suất khối lượng riêng, nhiệt độ. Nếu là chất lỏng cần quan tâm đến độ nhớt, dính, khả năng tạo hơi, khối lượng riêng.\n",
      "+ Tính chất dễ vỡ của sản phẩm và sự chống va đập cần thiết khi vận chuyển\n",
      "+ Bị hỏng khi mài mòn, va đập\n",
      "+ Có bị hư hỏng khi ẩm, có cần chống ẩm hay không\n",
      "+ Có mùi hay không\n",
      "+ Khả năng tạo khí\n",
      "+ Các yêu cầu đặc biệt để bảo quản\n",
      "+ Có dầu, mỡ...\n",
      "+ Nhạy cảm với nhiệt độ quá cao hoặc quá thấp\n",
      "+ Thay đổi màu sắc hay tính chất khi bị chiếu sáng\n",
      "+ Tính chất hóa học của sản phẩm: tính axít, tính kiềm, hoạt tính hóa học...\n",
      "- Thông tin về khách hàng\n",
      "+ Ai là người sử dụng (phụ nữ, đàn ông, độ tuổi, nhóm người nào)\n",
      "+ Cần ngăn cản trẻ em hay không\n",
      "- Nhóm thông tin về các yếu tố quảng cáo, thông tin:\n",
      "+ Đây là sản phẩm mới hay là một sản phẩm của một dòng sản phẩm đã có từ trước (người ta biết gì về sản phẩm này)\n",
      "+ Dạng bao bì này thường được đối thủ cạnh tranh sử dụng hay không\n",
      "+ Nhiều hay ít hình ảnh được yêu cầu in trên bao bì\n",
      "- Yếu tố sản xuất bao bì:\n",
      "+ Tính dễ in - phương pháp in\n",
      "+ Khả năng hàn dán đóng kín vật liệu\n",
      "- Nhóm thông tin về dây chuyền sản xuất bao bì và đóng gói\n",
      "+ Tự động hay thủ công\n",
      "+ Phương pháp đóng gói\n",
      "+ Thiết bị đóng gói\n",
      "+ Tốc độ đóng gói\n",
      "- Thông tin về quy định, luật định\n",
      "- Thông tin về quá trình, điều kiện lưu trữ, vận chuyển, phân phối, sử dụng sản phẩm\n",
      "+ Điều kiện lưu trữ, phân phối: nhiệt độ, độ ẩm, áp suất, ánh sáng\n",
      "+ Phương pháp tiệt trùng\n",
      "+ Tiếp xúc với hóa chất không\n",
      "+ Có tiếp xúc với nguồn sóng radio, sóng điện từ... không\n",
      "+ Có tiếp xúc với cácvi sinh: nấm mốc... không\n",
      "+ Tiện lợi khi đóng mở, hoặc đóng mở nhiều lần\n",
      "+ Cần pha chế, đo lường, trích... hay không\n",
      "- Giá thành cho phép' metadata={'summary': \"# Summary of Document: Development of Packaging Systems for Products\\n\\n## 2.1.2 Identification of Necessary Information\\n\\n- **Product Information:**\\n  - **Dimensions and Volume:** Size and internal volume of the product.\\n  - **Movement Space:** Whether the product requires space for movement, is rigid, or can be compressed.\\n  - **Weight:** The mass of the product.\\n  - **Packaging Level:** The degree of packaging required.\\n  - **Quantity:** Number of products per package.\\n  - **Product State:** Identification of the product as gas, solid, liquid, powder, or cream, with specific considerations for each state (e.g., gas requires attention to volume, pressure, density, and temperature; liquid requires viscosity, adhesion, vaporization, and density).\\n  - **Fragility:** Assessment of the product's fragility and necessary impact resistance during transport.\\n  - **Durability:** Vulnerability to wear, impact, and moisture; need for moisture protection.\\n  - **Odor and Gas Emission:** Presence of odor or gas generation.\\n  - **Storage Requirements:** Special preservation needs, sensitivity to temperature extremes, light exposure, and chemical properties (e.g., acidity, alkalinity, reactivity).\\n\\n- **Customer Information:**\\n  - **Target Audience:** Identification of the user demographic (e.g., gender, age, specific groups).\\n  - **Child Safety:** Consideration of whether the packaging needs to deter children.\\n\\n- **Advertising and Information Factors:**\\n  - **Product Novelty:** Whether the product is new or part of an existing line and existing consumer knowledge.\\n  - **Competitor Practices:** Common packaging styles used by competitors.\\n  - **Graphic Requirements:** Quantity of images to be printed on the packaging.\\n\\n- **Packaging Production Factors:**\\n  - **Printability:** Ease of printing and printing methods.\\n  - **Sealing Capability:** Ability to seal materials securely.\\n\\n- **Packaging and Filling Process Information:**\\n  - **Automation Level:** Whether the process is automated or manual.\\n  - **Filling Methods and Equipment:** Techniques and machinery used for packaging.\\n  - **Packaging Speed:** Rate of packaging operations.\\n\\n- **Regulatory Information:**\\n  - Compliance with relevant regulations and laws.\\n\\n- **Storage, Transport, and Usage Conditions:**\\n  - **Storage and Distribution Conditions:** Requirements for temperature, humidity, pressure, and light exposure.\\n  - **Sterilization Methods:** Techniques for ensuring product sterility.\\n  - **Chemical Exposure:** Consideration of exposure to chemicals and electromagnetic waves.\\n  - **Microbial Exposure:** Risk of contact with microorganisms like mold.\\n  - **Convenience Features:** Ease of opening and resealing, and whether mixing or measuring is required.\\n\\n- **Cost Considerations:** Budget constraints for packaging development.\", 'rank': 3, 'subtree': [], 'chapter': 'Chương 2: PHÁT TRIỂN HỆ THỐNG BAO BÌ CHO SẢN PHẨM', 'section': '2.1 QUÁ TRÌNH PHÁT TRIỂN HỆ THỐNG BAO BÌ CHO SẢN PHẢM', 'subsection': '2.1.2 Xác định các thông tin cần thiết', 'subsubsection': ''}\n"
     ]
    }
   ],
   "source": [
    "print(result)"
   ]
  },
  {
   "cell_type": "markdown",
   "metadata": {},
   "source": [
    "# SQL"
   ]
  },
  {
   "cell_type": "code",
   "execution_count": 57,
   "metadata": {},
   "outputs": [],
   "source": [
    "from langchain_community.utilities import SQLDatabase\n",
    "\n",
    "username = \"postgres\"\n",
    "password = \"12345678\"\n",
    "host = \"localhost\"\n",
    "port = \"5432\"\n",
    "database = \"postgres\"\n",
    "postgres_uri = f\"postgresql://{username}:{password}@{host}:{port}/{database}\"\n",
    "db = SQLDatabase.from_uri(postgres_uri)"
   ]
  },
  {
   "cell_type": "code",
   "execution_count": 76,
   "metadata": {},
   "outputs": [
    {
     "name": "stdout",
     "output_type": "stream",
     "text": [
      "code: {'question': 'chiều ngang Bao giấy 25kg TAPX-8', 'query': 'SELECT \"size_type\", \"length\" \\nFROM packaging_sizes \\nWHERE \"id\" = \\'BT1KH00051KP0001\\' \\nLIMIT 5;', 'result': \"[('Chiều dài bao', '950'), ('Chiều ngang bao', '500'), ('Nẹp đáy bao', 'Chiều rộng: 60mm, Chiều dài: 620mm'), ('Túi PE', 'Chiều ngang: 520mm, Chiều dài: 1100 mm, Đáy: 5cm, Khối lượng: 30gr')]\"}\n",
      "Answer: Chiều ngang của bao giấy 25kg TAPX-8 là 500 mm.\n"
     ]
    }
   ],
   "source": [
    "import re\n",
    "import os\n",
    "import openai\n",
    "import psycopg2\n",
    "from PIL import Image\n",
    "from operator import itemgetter\n",
    "from langchain_openai import ChatOpenAI\n",
    "from langchain.chains import create_sql_query_chain\n",
    "from langchain_core.output_parsers import StrOutputParser\n",
    "from langchain_core.prompts import PromptTemplate\n",
    "from langchain_core.runnables import RunnablePassthrough\n",
    "from langchain_community.tools.sql_database.tool import QuerySQLDataBaseTool\n",
    "from langchain_core.runnables import RunnableLambda\n",
    "from sqlalchemy.exc import ProgrammingError\n",
    "\n",
    "openai.api_key = os.getenv(\"OPENAI_API_KEY\")\n",
    "llm = ChatOpenAI(model=\"gpt-4o-mini-2024-07-18\", temperature=0)\n",
    "\n",
    "def sql_gen(question):\n",
    "    for i in range(5):\n",
    "        write_query = create_sql_query_chain(llm, db)\n",
    "        sql_code = write_query.invoke(question)\n",
    "        if \": \" in sql_code:\n",
    "            sql_code = sql_code.strip().split(\": \")[1]\n",
    "        if \"```sql\" in sql_code:\n",
    "            sql_code = sql_code.strip()[7:-4]\n",
    "        if 'SQLQuery' in sql_code:\n",
    "            return sql_code\n",
    "        try:\n",
    "            db.run(sql_code)\n",
    "            break\n",
    "        except ProgrammingError as e:\n",
    "            print(\"Code gen: \\n\")\n",
    "            print(sql_code)\n",
    "            print(\"\\nCode SQL gen bị sai, đang tiến hành gen lại\")\n",
    "        except Exception as e:\n",
    "            print(e)\n",
    "            break\n",
    "    return sql_code\n",
    "\n",
    "write_query  = RunnableLambda(sql_gen)\n",
    "execute_query = QuerySQLDataBaseTool(db=db)\n",
    "\n",
    "answer_prompt = PromptTemplate.from_template(\n",
    "    \"\"\"Given the following user question, corresponding SQL query, and SQL result, answer the user question.\n",
    "\n",
    "Question: {question}\n",
    "SQL Query: {query}\n",
    "SQL Result: {result}\n",
    "\n",
    "Remember to note the photoes\n",
    "Answer: \"\"\"\n",
    ")\n",
    "\n",
    "chain = (\n",
    "    RunnablePassthrough.assign(query=write_query).assign(\n",
    "        result=itemgetter(\"query\") | execute_query\n",
    "    )\n",
    ")\n",
    "\n",
    "answer_chain = (\n",
    "    answer_prompt\n",
    "    | llm\n",
    "    | StrOutputParser()\n",
    ")\n",
    "\n",
    "question = \"chiều ngang Bao giấy 25kg TAPX-8\"\n",
    "\n",
    "code = chain.invoke({\"question\": question})\n",
    "print(\"code:\", code)\n",
    "pattern = r\"img\\\\\\\\produces_property\\\\\\\\[^\\s]+\\.png\"\n",
    "matches = re.findall(pattern, str(code['result']))\n",
    "if matches:\n",
    "    matches.reverse()\n",
    "    for idx, match in enumerate(matches):\n",
    "        img = Image.open(match)\n",
    "        img.show()\n",
    "        cap = \"Hình \"+str(idx+1)\n",
    "        code['result'] = code['result'].replace(match,cap)\n",
    "try:\n",
    "    db.run(code['query'])\n",
    "    response =  .invoke(code)\n",
    "    if \"không phải là một câu lệnh SQL hợp lệ\" in response:\n",
    "        response = \"Không có dữ liệu để truy vấn\"\n",
    "except Exception as e:\n",
    "    print(e)\n",
    "    response = \"Không có dữ liệu để truy vấn\"\n",
    "\n",
    "print(\"Answer: \"+str(response))"
   ]
  },
  {
   "cell_type": "code",
   "execution_count": 28,
   "metadata": {},
   "outputs": [
    {
     "name": "stdout",
     "output_type": "stream",
     "text": [
      "You are a PostgreSQL expert. Given an input question, first create a syntactically correct PostgreSQL query to run, then look at the results of the query and return the answer to the input question.\n",
      "Unless the user specifies in the question a specific number of examples to obtain, query for at most 5 results using the LIMIT clause as per PostgreSQL. You can order the results to return the most informative data in the database.\n",
      "Never query for all columns from a table. You must query only the columns that are needed to answer the question. Wrap each column name in double quotes (\") to denote them as delimited identifiers.\n",
      "Pay attention to use only the column names you can see in the tables below. Be careful to not query for columns that do not exist. Also, pay attention to which column is in which table.\n",
      "Pay attention to use CURRENT_DATE function to get the current date, if the question involves \"today\".\n",
      "\n",
      "Use the following format:\n",
      "\n",
      "Question: Question here\n",
      "SQLQuery: SQL Query to run\n",
      "SQLResult: Result of the SQLQuery\n",
      "Answer: Final answer here\n",
      "\n",
      "Only use the following tables:\n",
      "\u001b[33;1m\u001b[1;3m{table_info}\u001b[0m\n",
      "\n",
      "Question: \u001b[33;1m\u001b[1;3m{input}\u001b[0m\n"
     ]
    }
   ],
   "source": [
    "create_sql_query_chain(llm, db).get_prompts()[0].pretty_print()"
   ]
  },
  {
   "cell_type": "code",
   "execution_count": 82,
   "metadata": {},
   "outputs": [
    {
     "name": "stdout",
     "output_type": "stream",
     "text": [
      "\n",
      "CREATE TABLE packagings (\n",
      "\tid VARCHAR(255) NOT NULL, \n",
      "\tpackaging_name VARCHAR(255), \n",
      "\tindustry VARCHAR(255), \n",
      "\traw_materials_contained VARCHAR(255), \n",
      "\tmass VARCHAR(255), \n",
      "\tstorage_time VARCHAR(255), \n",
      "\tmarket VARCHAR(255), \n",
      "\tCONSTRAINT packagings_pkey PRIMARY KEY (id)\n",
      ")\n",
      "\n",
      "/*\n",
      "3 rows from packagings table:\n",
      "id\tpackaging_name\tindustry\traw_materials_contained\tmass\tstorage_time\tmarket\n",
      "BT1KH00051KP0001\tBao giấy 25kg TAPX-8\tBột - Thực phẩm\tBột mì\t25kg\t12 tháng\tTrong nước + Xuất khẩu\n",
      "BT0KH00000KP0000\tBao giấy dán đáy 3 lớp giấy - dán nẹp đầu bao\t\t\t\t\t\n",
      "HN1KH00089KP0003\tBao hạt nhựa VEP 25KG (56x83)\tHạt nhựa\tHạt nhựa\t25kg\t12 tháng\tTrong nước\n",
      "XD2KH00073BP0002\tBao Keo dán gạch 25kg ( Hồng)\tPhụ gia xây dựng\tKeo dán gạch\t25kg\t12 tháng\tTrong nước\n",
      "BT1KH00050KP0001\tBao KP 25kg\tBột - Thực phẩm\tBột mì\t25kg\t12 tháng\tTrong nước + Xuất khẩu\n",
      "BT1KH00000KP0000\tBao giấy Dán Đáy 2 Đầu - 3 Lớp Giấy\t\t\t\t\t\n",
      "XD4KH00009BP0006\tBao Best Tile CE075 25kg\tPhụ gia thực phẩm\tKeo dán gạch\t25kg\t12 tháng\tTrong nước\n",
      "TA1KH00077OP0001\tBao REP 10kg\tThức ăn chăn nuôi\tThức ăn chăn nuôi\t10kg\t12 tháng\tTrong nước\n",
      "XD4KH00159BP0005\tBao Vitec Grout 25kg\tPhụ gia xây dựng\tVữa rót không co ngót\t25kg\t12 tháng\tTrong nước\n",
      "XD2KH00066BP0010\tBao Webertai A500 40kg\tPhụ gia xây dựng\tKeo dán gạch\t40kg\t12 tháng\tTrong nước\n",
      "HN1KH00096KP0001\tBao bì giấy Size L (Blue)\tHạt nhựa\tHạt nhựa\t25kg\t12 tháng\tTrong nước + Xuất khẩu\n",
      "BT1KH00335KP0001\tBao KPK không in\tBột-Thực phẩm\tBột mì\t25kg\t12 tháng\tTrong nước + xuất khẩu\n",
      "HC2KH00139OP0011\tBao Zucca Zeo 20kg\tHóa chất-thủy sản\tZeolite\t20kg\t24 tháng\tTrong nước\n",
      "XD1KH00177BP0001\tBao bột trét tường City ngoài trời\tPhụ gia xây dựng\tBột trét tường\t40kg\t12 tháng\tTrong nước\n",
      "XD1KH00074OP0006\tBao bột trét tường ngoại thất NEWSTAR 40Kg\tPhụ gia xây dựng\tBột trét tường\t40kg\t12 tháng\tTrong nước\n",
      "HN1KH00063KP0005\tBao đựng hạt nhựa TRIREX 25kg\tHạt nhựa\tHạt nhựa kỹ thuật\t25kg\t12 tháng\tTrong nước + Xuất khẩu\n",
      "HN1KH00305KP0002\tBao KP đựng hạt nhựa ECOTHANE 25kg\tHạt nhựa\tHạt nhựa\t25kg\t12 tháng\tTrong nước + Xuất khẩu\n",
      "PB1KH00079BP0032\tBao NPK 20.5.15 Xanh Én\tPhân bón\tPhân bón NPK\t50kg\t24 tháng\tTrong nước\n",
      "\n",
      "\n",
      "CREATE TABLE detailed_description_of_the_manufacturing_process (\n",
      "\tid VARCHAR(255) NOT NULL, \n",
      "\tstep VARCHAR(255) NOT NULL, \n",
      "\tdescription VARCHAR(500), \n",
      "\timage_path VARCHAR(255), \n",
      "\tCONSTRAINT detailed_description_of_the_manufacturing_process_pkey PRIMARY KEY (id, step), \n",
      "\tCONSTRAINT detailed_description_of_the_manufacturing_process_id_fkey FOREIGN KEY(id) REFERENCES packagings (id)\n",
      ")\n",
      "\n",
      "/*\n",
      "3 rows from detailed_description_of_the_manufacturing_process table:\n",
      "id\tstep\tdescription\timage_path\n",
      "BT1KH00051KP0001\tNhập nguyên vật liệu\tDựa vào định mức nguyên vật liệu, nhập tất cả các nguyên vật liệu cần sử dụng cho đơn hàng\timg\\produces_property\\43-detailed_description_of_the_manufacturing_process-1.png\n",
      "BT1KH00051KP0001\tKéo sợi\tNguyên vật liệu được cho vào bồn trộn theo tỷ lệ tiêu chuẩn, đi qua hệ thống đùn được nấu nóng chảy \timg\\produces_property\\43-detailed_description_of_the_manufacturing_process-2.png\n",
      "BT0KH00000KP0000\tNhập nguyên vật liệu\tDựa vào định mức nguyên vật liệu, nhập tất cả các nguyên vật liệu cần sử dụng cho đơn hàng\timg\\produces_property\\76-detailed_description_of_the_manufacturing_process-1.png\n",
      "*/\n",
      "\n",
      "\n",
      "CREATE TABLE packaging_materials (\n",
      "\tid VARCHAR(255) NOT NULL, \n",
      "\tmaterial_name VARCHAR(255) NOT NULL, \n",
      "\traw_material VARCHAR(255), \n",
      "\tspecification VARCHAR(255), \n",
      "\timage_path VARCHAR(255), \n",
      "\tCONSTRAINT packaging_materials_pkey PRIMARY KEY (id, material_name), \n",
      "\tCONSTRAINT packaging_materials_id_fkey FOREIGN KEY(id) REFERENCES packagings (id)\n",
      ")\n",
      "\n",
      "/*\n",
      "3 rows from packaging_materials table:\n",
      "id\tmaterial_name\traw_material\tspecification\timage_path\n",
      "BT1KH00051KP0001\tGiấy\tGiấy Kraft vàng nhật\tKhổ: 1020mm (±10mm), định lượng: 70 g/m2, khối lượng: 67.8g/bao\timg\\produces_property\\43-7.png\n",
      "BT1KH00051KP0001\tMực in Flexo\tXanh dương B01F, Vàng 20, Đỏ 1379R\tXanh dương B01F: 0.36g/bao, Vàng 20: 0.51g/bao, Đỏ 1379R: 0.43g/bao\timg\\produces_property\\43-8.png\n",
      "BT0KH00000KP0000\tGiấy in/tuýp/ghép\tGiấy Kraft vàng nhật\tKhổ: 850mm (±10mm), Định lượng: 70 g/m2\timg\\produces_property\\43-7.png\n",
      "*/\n",
      "\n",
      "\n",
      "CREATE TABLE packaging_sizes (\n",
      "\tid VARCHAR(255) NOT NULL, \n",
      "\tsize_type VARCHAR(255) NOT NULL, \n",
      "\tlength VARCHAR(255), \n",
      "\ttolerance VARCHAR(255), \n",
      "\timage_path VARCHAR(255), \n",
      "\tCONSTRAINT packaging_sizes_pkey PRIMARY KEY (id, size_type), \n",
      "\tCONSTRAINT packaging_sizes_id_fkey FOREIGN KEY(id) REFERENCES packagings (id)\n",
      ")\n",
      "\n",
      "/*\n",
      "3 rows from packaging_sizes table:\n",
      "id\tsize_type\tlength\ttolerance\timage_path\n",
      "BT1KH00051KP0001\tChiều ngang bao\t500\t± 10mm\timg\\produces_property\\43-1.png\n",
      "BT1KH00051KP0001\tChiều dài bao\t950\t± 10mm\timg\\produces_property\\43-1.png\n",
      "BT1KH00051KP0001\tTúi PE\tChiều ngang: 520mm, Chiều dài: 1100 mm, Đáy: 5cm, Khối lượng: 30gr\tKích thước : ± 10mm, Khối lượng : ± 1gr\timg\\produces_property\\43-2.png\n",
      "*/\n",
      "\n",
      "\n",
      "CREATE TABLE production_process_diagram (\n",
      "\tid VARCHAR(255) NOT NULL, \n",
      "\timage_path VARCHAR(255), \n",
      "\tCONSTRAINT production_process_diagram_pkey PRIMARY KEY (id), \n",
      "\tCONSTRAINT production_process_diagram_id_fkey FOREIGN KEY(id) REFERENCES packagings (id)\n",
      ")\n",
      "\n",
      "/*\n",
      "3 rows from production_process_diagram table:\n",
      "id\timage_path\n",
      "BT1KH00051KP0001\timg\\produces_property\\43-production_process_diagram.png\n",
      "BT0KH00000KP0000\timg\\produces_property\\76-production_process_diagram.png\n",
      "*/\n"
     ]
    }
   ],
   "source": [
    "from util import *\n",
    "import ast\n",
    "db = connect_database()\n",
    "packagings_info = db.get_table_info(['packagings'])\n",
    "packagings_samples = db.run('SELECT * FROM packagings;')\n",
    "packagings_samples = ast.literal_eval(packagings_samples)\n",
    "samples = \"\"\n",
    "for line in packagings_samples[3:]:\n",
    "    samples += \"\\t\".join(line)+'\\n'\n",
    "\n",
    "sql_info = db.get_table_info([item for item in db.get_table_names() if item != 'packagings'])\n",
    "print(packagings_info[:-2]+samples+\"\\n\"+sql_info)"
   ]
  },
  {
   "cell_type": "markdown",
   "metadata": {},
   "source": [
    "# Routing"
   ]
  },
  {
   "cell_type": "code",
   "execution_count": 65,
   "metadata": {},
   "outputs": [
    {
     "ename": "TypeError",
     "evalue": "\"Could not resolve authentication method. Expected either api_key or auth_token to be set. Or for one of the `X-Api-Key` or `Authorization` headers to be explicitly omitted\"",
     "output_type": "error",
     "traceback": [
      "\u001b[1;31m---------------------------------------------------------------------------\u001b[0m",
      "\u001b[1;31mTypeError\u001b[0m                                 Traceback (most recent call last)",
      "Cell \u001b[1;32mIn[65], line 21\u001b[0m\n\u001b[0;32m      3\u001b[0m \u001b[38;5;28;01mfrom\u001b[39;00m \u001b[38;5;21;01mlangchain_core\u001b[39;00m\u001b[38;5;21;01m.\u001b[39;00m\u001b[38;5;21;01mprompts\u001b[39;00m \u001b[38;5;28;01mimport\u001b[39;00m PromptTemplate\n\u001b[0;32m      5\u001b[0m chain \u001b[38;5;241m=\u001b[39m (\n\u001b[0;32m      6\u001b[0m     PromptTemplate\u001b[38;5;241m.\u001b[39mfrom_template(\n\u001b[0;32m      7\u001b[0m \u001b[38;5;250m        \u001b[39m\u001b[38;5;124;03m\"\"\"Given the user question below, classify it as either being about `Semantic`, or `Other`.\u001b[39;00m\n\u001b[1;32m   (...)\u001b[0m\n\u001b[0;32m     18\u001b[0m     \u001b[38;5;241m|\u001b[39m StrOutputParser()\n\u001b[0;32m     19\u001b[0m )\n\u001b[1;32m---> 21\u001b[0m \u001b[43mchain\u001b[49m\u001b[38;5;241;43m.\u001b[39;49m\u001b[43minvoke\u001b[49m\u001b[43m(\u001b[49m\u001b[43m{\u001b[49m\u001b[38;5;124;43m\"\u001b[39;49m\u001b[38;5;124;43mquestion\u001b[39;49m\u001b[38;5;124;43m\"\u001b[39;49m\u001b[43m:\u001b[49m\u001b[43m \u001b[49m\u001b[38;5;124;43m\"\u001b[39;49m\u001b[38;5;124;43mdoanh nghiệp có bao nhiêu nhân viên\u001b[39;49m\u001b[38;5;124;43m\"\u001b[39;49m\u001b[43m}\u001b[49m\u001b[43m)\u001b[49m\n",
      "File \u001b[1;32mc:\\D\\my project\\Product_chatbot\\env\\lib\\site-packages\\langchain_core\\runnables\\base.py:2878\u001b[0m, in \u001b[0;36mRunnableSequence.invoke\u001b[1;34m(self, input, config, **kwargs)\u001b[0m\n\u001b[0;32m   2876\u001b[0m             \u001b[38;5;28minput\u001b[39m \u001b[38;5;241m=\u001b[39m context\u001b[38;5;241m.\u001b[39mrun(step\u001b[38;5;241m.\u001b[39minvoke, \u001b[38;5;28minput\u001b[39m, config, \u001b[38;5;241m*\u001b[39m\u001b[38;5;241m*\u001b[39mkwargs)\n\u001b[0;32m   2877\u001b[0m         \u001b[38;5;28;01melse\u001b[39;00m:\n\u001b[1;32m-> 2878\u001b[0m             \u001b[38;5;28minput\u001b[39m \u001b[38;5;241m=\u001b[39m \u001b[43mcontext\u001b[49m\u001b[38;5;241;43m.\u001b[39;49m\u001b[43mrun\u001b[49m\u001b[43m(\u001b[49m\u001b[43mstep\u001b[49m\u001b[38;5;241;43m.\u001b[39;49m\u001b[43minvoke\u001b[49m\u001b[43m,\u001b[49m\u001b[43m \u001b[49m\u001b[38;5;28;43minput\u001b[39;49m\u001b[43m,\u001b[49m\u001b[43m \u001b[49m\u001b[43mconfig\u001b[49m\u001b[43m)\u001b[49m\n\u001b[0;32m   2879\u001b[0m \u001b[38;5;66;03m# finish the root run\u001b[39;00m\n\u001b[0;32m   2880\u001b[0m \u001b[38;5;28;01mexcept\u001b[39;00m \u001b[38;5;167;01mBaseException\u001b[39;00m \u001b[38;5;28;01mas\u001b[39;00m e:\n",
      "File \u001b[1;32mc:\\D\\my project\\Product_chatbot\\env\\lib\\site-packages\\langchain_core\\language_models\\chat_models.py:277\u001b[0m, in \u001b[0;36mBaseChatModel.invoke\u001b[1;34m(self, input, config, stop, **kwargs)\u001b[0m\n\u001b[0;32m    266\u001b[0m \u001b[38;5;28;01mdef\u001b[39;00m \u001b[38;5;21minvoke\u001b[39m(\n\u001b[0;32m    267\u001b[0m     \u001b[38;5;28mself\u001b[39m,\n\u001b[0;32m    268\u001b[0m     \u001b[38;5;28minput\u001b[39m: LanguageModelInput,\n\u001b[1;32m   (...)\u001b[0m\n\u001b[0;32m    272\u001b[0m     \u001b[38;5;241m*\u001b[39m\u001b[38;5;241m*\u001b[39mkwargs: Any,\n\u001b[0;32m    273\u001b[0m ) \u001b[38;5;241m-\u001b[39m\u001b[38;5;241m>\u001b[39m BaseMessage:\n\u001b[0;32m    274\u001b[0m     config \u001b[38;5;241m=\u001b[39m ensure_config(config)\n\u001b[0;32m    275\u001b[0m     \u001b[38;5;28;01mreturn\u001b[39;00m cast(\n\u001b[0;32m    276\u001b[0m         ChatGeneration,\n\u001b[1;32m--> 277\u001b[0m         \u001b[38;5;28mself\u001b[39m\u001b[38;5;241m.\u001b[39mgenerate_prompt(\n\u001b[0;32m    278\u001b[0m             [\u001b[38;5;28mself\u001b[39m\u001b[38;5;241m.\u001b[39m_convert_input(\u001b[38;5;28minput\u001b[39m)],\n\u001b[0;32m    279\u001b[0m             stop\u001b[38;5;241m=\u001b[39mstop,\n\u001b[0;32m    280\u001b[0m             callbacks\u001b[38;5;241m=\u001b[39mconfig\u001b[38;5;241m.\u001b[39mget(\u001b[38;5;124m\"\u001b[39m\u001b[38;5;124mcallbacks\u001b[39m\u001b[38;5;124m\"\u001b[39m),\n\u001b[0;32m    281\u001b[0m             tags\u001b[38;5;241m=\u001b[39mconfig\u001b[38;5;241m.\u001b[39mget(\u001b[38;5;124m\"\u001b[39m\u001b[38;5;124mtags\u001b[39m\u001b[38;5;124m\"\u001b[39m),\n\u001b[0;32m    282\u001b[0m             metadata\u001b[38;5;241m=\u001b[39mconfig\u001b[38;5;241m.\u001b[39mget(\u001b[38;5;124m\"\u001b[39m\u001b[38;5;124mmetadata\u001b[39m\u001b[38;5;124m\"\u001b[39m),\n\u001b[0;32m    283\u001b[0m             run_name\u001b[38;5;241m=\u001b[39mconfig\u001b[38;5;241m.\u001b[39mget(\u001b[38;5;124m\"\u001b[39m\u001b[38;5;124mrun_name\u001b[39m\u001b[38;5;124m\"\u001b[39m),\n\u001b[0;32m    284\u001b[0m             run_id\u001b[38;5;241m=\u001b[39mconfig\u001b[38;5;241m.\u001b[39mpop(\u001b[38;5;124m\"\u001b[39m\u001b[38;5;124mrun_id\u001b[39m\u001b[38;5;124m\"\u001b[39m, \u001b[38;5;28;01mNone\u001b[39;00m),\n\u001b[0;32m    285\u001b[0m             \u001b[38;5;241m*\u001b[39m\u001b[38;5;241m*\u001b[39mkwargs,\n\u001b[0;32m    286\u001b[0m         )\u001b[38;5;241m.\u001b[39mgenerations[\u001b[38;5;241m0\u001b[39m][\u001b[38;5;241m0\u001b[39m],\n\u001b[0;32m    287\u001b[0m     )\u001b[38;5;241m.\u001b[39mmessage\n",
      "File \u001b[1;32mc:\\D\\my project\\Product_chatbot\\env\\lib\\site-packages\\langchain_core\\language_models\\chat_models.py:777\u001b[0m, in \u001b[0;36mBaseChatModel.generate_prompt\u001b[1;34m(self, prompts, stop, callbacks, **kwargs)\u001b[0m\n\u001b[0;32m    769\u001b[0m \u001b[38;5;28;01mdef\u001b[39;00m \u001b[38;5;21mgenerate_prompt\u001b[39m(\n\u001b[0;32m    770\u001b[0m     \u001b[38;5;28mself\u001b[39m,\n\u001b[0;32m    771\u001b[0m     prompts: List[PromptValue],\n\u001b[1;32m   (...)\u001b[0m\n\u001b[0;32m    774\u001b[0m     \u001b[38;5;241m*\u001b[39m\u001b[38;5;241m*\u001b[39mkwargs: Any,\n\u001b[0;32m    775\u001b[0m ) \u001b[38;5;241m-\u001b[39m\u001b[38;5;241m>\u001b[39m LLMResult:\n\u001b[0;32m    776\u001b[0m     prompt_messages \u001b[38;5;241m=\u001b[39m [p\u001b[38;5;241m.\u001b[39mto_messages() \u001b[38;5;28;01mfor\u001b[39;00m p \u001b[38;5;129;01min\u001b[39;00m prompts]\n\u001b[1;32m--> 777\u001b[0m     \u001b[38;5;28;01mreturn\u001b[39;00m \u001b[38;5;28mself\u001b[39m\u001b[38;5;241m.\u001b[39mgenerate(prompt_messages, stop\u001b[38;5;241m=\u001b[39mstop, callbacks\u001b[38;5;241m=\u001b[39mcallbacks, \u001b[38;5;241m*\u001b[39m\u001b[38;5;241m*\u001b[39mkwargs)\n",
      "File \u001b[1;32mc:\\D\\my project\\Product_chatbot\\env\\lib\\site-packages\\langchain_core\\language_models\\chat_models.py:634\u001b[0m, in \u001b[0;36mBaseChatModel.generate\u001b[1;34m(self, messages, stop, callbacks, tags, metadata, run_name, run_id, **kwargs)\u001b[0m\n\u001b[0;32m    632\u001b[0m         \u001b[38;5;28;01mif\u001b[39;00m run_managers:\n\u001b[0;32m    633\u001b[0m             run_managers[i]\u001b[38;5;241m.\u001b[39mon_llm_error(e, response\u001b[38;5;241m=\u001b[39mLLMResult(generations\u001b[38;5;241m=\u001b[39m[]))\n\u001b[1;32m--> 634\u001b[0m         \u001b[38;5;28;01mraise\u001b[39;00m e\n\u001b[0;32m    635\u001b[0m flattened_outputs \u001b[38;5;241m=\u001b[39m [\n\u001b[0;32m    636\u001b[0m     LLMResult(generations\u001b[38;5;241m=\u001b[39m[res\u001b[38;5;241m.\u001b[39mgenerations], llm_output\u001b[38;5;241m=\u001b[39mres\u001b[38;5;241m.\u001b[39mllm_output)  \u001b[38;5;66;03m# type: ignore[list-item]\u001b[39;00m\n\u001b[0;32m    637\u001b[0m     \u001b[38;5;28;01mfor\u001b[39;00m res \u001b[38;5;129;01min\u001b[39;00m results\n\u001b[0;32m    638\u001b[0m ]\n\u001b[0;32m    639\u001b[0m llm_output \u001b[38;5;241m=\u001b[39m \u001b[38;5;28mself\u001b[39m\u001b[38;5;241m.\u001b[39m_combine_llm_outputs([res\u001b[38;5;241m.\u001b[39mllm_output \u001b[38;5;28;01mfor\u001b[39;00m res \u001b[38;5;129;01min\u001b[39;00m results])\n",
      "File \u001b[1;32mc:\\D\\my project\\Product_chatbot\\env\\lib\\site-packages\\langchain_core\\language_models\\chat_models.py:624\u001b[0m, in \u001b[0;36mBaseChatModel.generate\u001b[1;34m(self, messages, stop, callbacks, tags, metadata, run_name, run_id, **kwargs)\u001b[0m\n\u001b[0;32m    621\u001b[0m \u001b[38;5;28;01mfor\u001b[39;00m i, m \u001b[38;5;129;01min\u001b[39;00m \u001b[38;5;28menumerate\u001b[39m(messages):\n\u001b[0;32m    622\u001b[0m     \u001b[38;5;28;01mtry\u001b[39;00m:\n\u001b[0;32m    623\u001b[0m         results\u001b[38;5;241m.\u001b[39mappend(\n\u001b[1;32m--> 624\u001b[0m             \u001b[38;5;28mself\u001b[39m\u001b[38;5;241m.\u001b[39m_generate_with_cache(\n\u001b[0;32m    625\u001b[0m                 m,\n\u001b[0;32m    626\u001b[0m                 stop\u001b[38;5;241m=\u001b[39mstop,\n\u001b[0;32m    627\u001b[0m                 run_manager\u001b[38;5;241m=\u001b[39mrun_managers[i] \u001b[38;5;28;01mif\u001b[39;00m run_managers \u001b[38;5;28;01melse\u001b[39;00m \u001b[38;5;28;01mNone\u001b[39;00m,\n\u001b[0;32m    628\u001b[0m                 \u001b[38;5;241m*\u001b[39m\u001b[38;5;241m*\u001b[39mkwargs,\n\u001b[0;32m    629\u001b[0m             )\n\u001b[0;32m    630\u001b[0m         )\n\u001b[0;32m    631\u001b[0m     \u001b[38;5;28;01mexcept\u001b[39;00m \u001b[38;5;167;01mBaseException\u001b[39;00m \u001b[38;5;28;01mas\u001b[39;00m e:\n\u001b[0;32m    632\u001b[0m         \u001b[38;5;28;01mif\u001b[39;00m run_managers:\n",
      "File \u001b[1;32mc:\\D\\my project\\Product_chatbot\\env\\lib\\site-packages\\langchain_core\\language_models\\chat_models.py:846\u001b[0m, in \u001b[0;36mBaseChatModel._generate_with_cache\u001b[1;34m(self, messages, stop, run_manager, **kwargs)\u001b[0m\n\u001b[0;32m    844\u001b[0m \u001b[38;5;28;01melse\u001b[39;00m:\n\u001b[0;32m    845\u001b[0m     \u001b[38;5;28;01mif\u001b[39;00m inspect\u001b[38;5;241m.\u001b[39msignature(\u001b[38;5;28mself\u001b[39m\u001b[38;5;241m.\u001b[39m_generate)\u001b[38;5;241m.\u001b[39mparameters\u001b[38;5;241m.\u001b[39mget(\u001b[38;5;124m\"\u001b[39m\u001b[38;5;124mrun_manager\u001b[39m\u001b[38;5;124m\"\u001b[39m):\n\u001b[1;32m--> 846\u001b[0m         result \u001b[38;5;241m=\u001b[39m \u001b[38;5;28mself\u001b[39m\u001b[38;5;241m.\u001b[39m_generate(\n\u001b[0;32m    847\u001b[0m             messages, stop\u001b[38;5;241m=\u001b[39mstop, run_manager\u001b[38;5;241m=\u001b[39mrun_manager, \u001b[38;5;241m*\u001b[39m\u001b[38;5;241m*\u001b[39mkwargs\n\u001b[0;32m    848\u001b[0m         )\n\u001b[0;32m    849\u001b[0m     \u001b[38;5;28;01melse\u001b[39;00m:\n\u001b[0;32m    850\u001b[0m         result \u001b[38;5;241m=\u001b[39m \u001b[38;5;28mself\u001b[39m\u001b[38;5;241m.\u001b[39m_generate(messages, stop\u001b[38;5;241m=\u001b[39mstop, \u001b[38;5;241m*\u001b[39m\u001b[38;5;241m*\u001b[39mkwargs)\n",
      "File \u001b[1;32mc:\\D\\my project\\Product_chatbot\\env\\lib\\site-packages\\langchain_anthropic\\chat_models.py:776\u001b[0m, in \u001b[0;36mChatAnthropic._generate\u001b[1;34m(self, messages, stop, run_manager, **kwargs)\u001b[0m\n\u001b[0;32m    774\u001b[0m     \u001b[38;5;28;01mreturn\u001b[39;00m generate_from_stream(stream_iter)\n\u001b[0;32m    775\u001b[0m payload \u001b[38;5;241m=\u001b[39m \u001b[38;5;28mself\u001b[39m\u001b[38;5;241m.\u001b[39m_get_request_payload(messages, stop\u001b[38;5;241m=\u001b[39mstop, \u001b[38;5;241m*\u001b[39m\u001b[38;5;241m*\u001b[39mkwargs)\n\u001b[1;32m--> 776\u001b[0m data \u001b[38;5;241m=\u001b[39m \u001b[38;5;28mself\u001b[39m\u001b[38;5;241m.\u001b[39m_client\u001b[38;5;241m.\u001b[39mmessages\u001b[38;5;241m.\u001b[39mcreate(\u001b[38;5;241m*\u001b[39m\u001b[38;5;241m*\u001b[39mpayload)\n\u001b[0;32m    777\u001b[0m \u001b[38;5;28;01mreturn\u001b[39;00m \u001b[38;5;28mself\u001b[39m\u001b[38;5;241m.\u001b[39m_format_output(data, \u001b[38;5;241m*\u001b[39m\u001b[38;5;241m*\u001b[39mkwargs)\n",
      "File \u001b[1;32mc:\\D\\my project\\Product_chatbot\\env\\lib\\site-packages\\anthropic\\_utils\\_utils.py:274\u001b[0m, in \u001b[0;36mrequired_args.<locals>.inner.<locals>.wrapper\u001b[1;34m(*args, **kwargs)\u001b[0m\n\u001b[0;32m    272\u001b[0m             msg \u001b[38;5;241m=\u001b[39m \u001b[38;5;124mf\u001b[39m\u001b[38;5;124m\"\u001b[39m\u001b[38;5;124mMissing required argument: \u001b[39m\u001b[38;5;132;01m{\u001b[39;00mquote(missing[\u001b[38;5;241m0\u001b[39m])\u001b[38;5;132;01m}\u001b[39;00m\u001b[38;5;124m\"\u001b[39m\n\u001b[0;32m    273\u001b[0m     \u001b[38;5;28;01mraise\u001b[39;00m \u001b[38;5;167;01mTypeError\u001b[39;00m(msg)\n\u001b[1;32m--> 274\u001b[0m \u001b[38;5;28;01mreturn\u001b[39;00m func(\u001b[38;5;241m*\u001b[39margs, \u001b[38;5;241m*\u001b[39m\u001b[38;5;241m*\u001b[39mkwargs)\n",
      "File \u001b[1;32mc:\\D\\my project\\Product_chatbot\\env\\lib\\site-packages\\anthropic\\resources\\messages.py:878\u001b[0m, in \u001b[0;36mMessages.create\u001b[1;34m(self, max_tokens, messages, model, metadata, stop_sequences, stream, system, temperature, tool_choice, tools, top_k, top_p, extra_headers, extra_query, extra_body, timeout)\u001b[0m\n\u001b[0;32m    871\u001b[0m \u001b[38;5;28;01mif\u001b[39;00m model \u001b[38;5;129;01min\u001b[39;00m DEPRECATED_MODELS:\n\u001b[0;32m    872\u001b[0m     warnings\u001b[38;5;241m.\u001b[39mwarn(\n\u001b[0;32m    873\u001b[0m         \u001b[38;5;124mf\u001b[39m\u001b[38;5;124m\"\u001b[39m\u001b[38;5;124mThe model \u001b[39m\u001b[38;5;124m'\u001b[39m\u001b[38;5;132;01m{\u001b[39;00mmodel\u001b[38;5;132;01m}\u001b[39;00m\u001b[38;5;124m'\u001b[39m\u001b[38;5;124m is deprecated and will reach end-of-life on \u001b[39m\u001b[38;5;132;01m{\u001b[39;00mDEPRECATED_MODELS[model]\u001b[38;5;132;01m}\u001b[39;00m\u001b[38;5;124m.\u001b[39m\u001b[38;5;130;01m\\n\u001b[39;00m\u001b[38;5;124mPlease migrate to a newer model. Visit https://docs.anthropic.com/en/docs/resources/model-deprecations for more information.\u001b[39m\u001b[38;5;124m\"\u001b[39m,\n\u001b[0;32m    874\u001b[0m         \u001b[38;5;167;01mDeprecationWarning\u001b[39;00m,\n\u001b[0;32m    875\u001b[0m         stacklevel\u001b[38;5;241m=\u001b[39m\u001b[38;5;241m3\u001b[39m,\n\u001b[0;32m    876\u001b[0m     )\n\u001b[1;32m--> 878\u001b[0m \u001b[38;5;28;01mreturn\u001b[39;00m \u001b[38;5;28;43mself\u001b[39;49m\u001b[38;5;241;43m.\u001b[39;49m\u001b[43m_post\u001b[49m\u001b[43m(\u001b[49m\n\u001b[0;32m    879\u001b[0m \u001b[43m    \u001b[49m\u001b[38;5;124;43m\"\u001b[39;49m\u001b[38;5;124;43m/v1/messages\u001b[39;49m\u001b[38;5;124;43m\"\u001b[39;49m\u001b[43m,\u001b[49m\n\u001b[0;32m    880\u001b[0m \u001b[43m    \u001b[49m\u001b[43mbody\u001b[49m\u001b[38;5;241;43m=\u001b[39;49m\u001b[43mmaybe_transform\u001b[49m\u001b[43m(\u001b[49m\n\u001b[0;32m    881\u001b[0m \u001b[43m        \u001b[49m\u001b[43m{\u001b[49m\n\u001b[0;32m    882\u001b[0m \u001b[43m            \u001b[49m\u001b[38;5;124;43m\"\u001b[39;49m\u001b[38;5;124;43mmax_tokens\u001b[39;49m\u001b[38;5;124;43m\"\u001b[39;49m\u001b[43m:\u001b[49m\u001b[43m \u001b[49m\u001b[43mmax_tokens\u001b[49m\u001b[43m,\u001b[49m\n\u001b[0;32m    883\u001b[0m \u001b[43m            \u001b[49m\u001b[38;5;124;43m\"\u001b[39;49m\u001b[38;5;124;43mmessages\u001b[39;49m\u001b[38;5;124;43m\"\u001b[39;49m\u001b[43m:\u001b[49m\u001b[43m \u001b[49m\u001b[43mmessages\u001b[49m\u001b[43m,\u001b[49m\n\u001b[0;32m    884\u001b[0m \u001b[43m            \u001b[49m\u001b[38;5;124;43m\"\u001b[39;49m\u001b[38;5;124;43mmodel\u001b[39;49m\u001b[38;5;124;43m\"\u001b[39;49m\u001b[43m:\u001b[49m\u001b[43m \u001b[49m\u001b[43mmodel\u001b[49m\u001b[43m,\u001b[49m\n\u001b[0;32m    885\u001b[0m \u001b[43m            \u001b[49m\u001b[38;5;124;43m\"\u001b[39;49m\u001b[38;5;124;43mmetadata\u001b[39;49m\u001b[38;5;124;43m\"\u001b[39;49m\u001b[43m:\u001b[49m\u001b[43m \u001b[49m\u001b[43mmetadata\u001b[49m\u001b[43m,\u001b[49m\n\u001b[0;32m    886\u001b[0m \u001b[43m            \u001b[49m\u001b[38;5;124;43m\"\u001b[39;49m\u001b[38;5;124;43mstop_sequences\u001b[39;49m\u001b[38;5;124;43m\"\u001b[39;49m\u001b[43m:\u001b[49m\u001b[43m \u001b[49m\u001b[43mstop_sequences\u001b[49m\u001b[43m,\u001b[49m\n\u001b[0;32m    887\u001b[0m \u001b[43m            \u001b[49m\u001b[38;5;124;43m\"\u001b[39;49m\u001b[38;5;124;43mstream\u001b[39;49m\u001b[38;5;124;43m\"\u001b[39;49m\u001b[43m:\u001b[49m\u001b[43m \u001b[49m\u001b[43mstream\u001b[49m\u001b[43m,\u001b[49m\n\u001b[0;32m    888\u001b[0m \u001b[43m            \u001b[49m\u001b[38;5;124;43m\"\u001b[39;49m\u001b[38;5;124;43msystem\u001b[39;49m\u001b[38;5;124;43m\"\u001b[39;49m\u001b[43m:\u001b[49m\u001b[43m \u001b[49m\u001b[43msystem\u001b[49m\u001b[43m,\u001b[49m\n\u001b[0;32m    889\u001b[0m \u001b[43m            \u001b[49m\u001b[38;5;124;43m\"\u001b[39;49m\u001b[38;5;124;43mtemperature\u001b[39;49m\u001b[38;5;124;43m\"\u001b[39;49m\u001b[43m:\u001b[49m\u001b[43m \u001b[49m\u001b[43mtemperature\u001b[49m\u001b[43m,\u001b[49m\n\u001b[0;32m    890\u001b[0m \u001b[43m            \u001b[49m\u001b[38;5;124;43m\"\u001b[39;49m\u001b[38;5;124;43mtool_choice\u001b[39;49m\u001b[38;5;124;43m\"\u001b[39;49m\u001b[43m:\u001b[49m\u001b[43m \u001b[49m\u001b[43mtool_choice\u001b[49m\u001b[43m,\u001b[49m\n\u001b[0;32m    891\u001b[0m \u001b[43m            \u001b[49m\u001b[38;5;124;43m\"\u001b[39;49m\u001b[38;5;124;43mtools\u001b[39;49m\u001b[38;5;124;43m\"\u001b[39;49m\u001b[43m:\u001b[49m\u001b[43m \u001b[49m\u001b[43mtools\u001b[49m\u001b[43m,\u001b[49m\n\u001b[0;32m    892\u001b[0m \u001b[43m            \u001b[49m\u001b[38;5;124;43m\"\u001b[39;49m\u001b[38;5;124;43mtop_k\u001b[39;49m\u001b[38;5;124;43m\"\u001b[39;49m\u001b[43m:\u001b[49m\u001b[43m \u001b[49m\u001b[43mtop_k\u001b[49m\u001b[43m,\u001b[49m\n\u001b[0;32m    893\u001b[0m \u001b[43m            \u001b[49m\u001b[38;5;124;43m\"\u001b[39;49m\u001b[38;5;124;43mtop_p\u001b[39;49m\u001b[38;5;124;43m\"\u001b[39;49m\u001b[43m:\u001b[49m\u001b[43m \u001b[49m\u001b[43mtop_p\u001b[49m\u001b[43m,\u001b[49m\n\u001b[0;32m    894\u001b[0m \u001b[43m        \u001b[49m\u001b[43m}\u001b[49m\u001b[43m,\u001b[49m\n\u001b[0;32m    895\u001b[0m \u001b[43m        \u001b[49m\u001b[43mmessage_create_params\u001b[49m\u001b[38;5;241;43m.\u001b[39;49m\u001b[43mMessageCreateParams\u001b[49m\u001b[43m,\u001b[49m\n\u001b[0;32m    896\u001b[0m \u001b[43m    \u001b[49m\u001b[43m)\u001b[49m\u001b[43m,\u001b[49m\n\u001b[0;32m    897\u001b[0m \u001b[43m    \u001b[49m\u001b[43moptions\u001b[49m\u001b[38;5;241;43m=\u001b[39;49m\u001b[43mmake_request_options\u001b[49m\u001b[43m(\u001b[49m\n\u001b[0;32m    898\u001b[0m \u001b[43m        \u001b[49m\u001b[43mextra_headers\u001b[49m\u001b[38;5;241;43m=\u001b[39;49m\u001b[43mextra_headers\u001b[49m\u001b[43m,\u001b[49m\u001b[43m \u001b[49m\u001b[43mextra_query\u001b[49m\u001b[38;5;241;43m=\u001b[39;49m\u001b[43mextra_query\u001b[49m\u001b[43m,\u001b[49m\u001b[43m \u001b[49m\u001b[43mextra_body\u001b[49m\u001b[38;5;241;43m=\u001b[39;49m\u001b[43mextra_body\u001b[49m\u001b[43m,\u001b[49m\u001b[43m \u001b[49m\u001b[43mtimeout\u001b[49m\u001b[38;5;241;43m=\u001b[39;49m\u001b[43mtimeout\u001b[49m\n\u001b[0;32m    899\u001b[0m \u001b[43m    \u001b[49m\u001b[43m)\u001b[49m\u001b[43m,\u001b[49m\n\u001b[0;32m    900\u001b[0m \u001b[43m    \u001b[49m\u001b[43mcast_to\u001b[49m\u001b[38;5;241;43m=\u001b[39;49m\u001b[43mMessage\u001b[49m\u001b[43m,\u001b[49m\n\u001b[0;32m    901\u001b[0m \u001b[43m    \u001b[49m\u001b[43mstream\u001b[49m\u001b[38;5;241;43m=\u001b[39;49m\u001b[43mstream\u001b[49m\u001b[43m \u001b[49m\u001b[38;5;129;43;01mor\u001b[39;49;00m\u001b[43m \u001b[49m\u001b[38;5;28;43;01mFalse\u001b[39;49;00m\u001b[43m,\u001b[49m\n\u001b[0;32m    902\u001b[0m \u001b[43m    \u001b[49m\u001b[43mstream_cls\u001b[49m\u001b[38;5;241;43m=\u001b[39;49m\u001b[43mStream\u001b[49m\u001b[43m[\u001b[49m\u001b[43mRawMessageStreamEvent\u001b[49m\u001b[43m]\u001b[49m\u001b[43m,\u001b[49m\n\u001b[0;32m    903\u001b[0m \u001b[43m\u001b[49m\u001b[43m)\u001b[49m\n",
      "File \u001b[1;32mc:\\D\\my project\\Product_chatbot\\env\\lib\\site-packages\\anthropic\\_base_client.py:1260\u001b[0m, in \u001b[0;36mSyncAPIClient.post\u001b[1;34m(self, path, cast_to, body, options, files, stream, stream_cls)\u001b[0m\n\u001b[0;32m   1246\u001b[0m \u001b[38;5;28;01mdef\u001b[39;00m \u001b[38;5;21mpost\u001b[39m(\n\u001b[0;32m   1247\u001b[0m     \u001b[38;5;28mself\u001b[39m,\n\u001b[0;32m   1248\u001b[0m     path: \u001b[38;5;28mstr\u001b[39m,\n\u001b[1;32m   (...)\u001b[0m\n\u001b[0;32m   1255\u001b[0m     stream_cls: \u001b[38;5;28mtype\u001b[39m[_StreamT] \u001b[38;5;241m|\u001b[39m \u001b[38;5;28;01mNone\u001b[39;00m \u001b[38;5;241m=\u001b[39m \u001b[38;5;28;01mNone\u001b[39;00m,\n\u001b[0;32m   1256\u001b[0m ) \u001b[38;5;241m-\u001b[39m\u001b[38;5;241m>\u001b[39m ResponseT \u001b[38;5;241m|\u001b[39m _StreamT:\n\u001b[0;32m   1257\u001b[0m     opts \u001b[38;5;241m=\u001b[39m FinalRequestOptions\u001b[38;5;241m.\u001b[39mconstruct(\n\u001b[0;32m   1258\u001b[0m         method\u001b[38;5;241m=\u001b[39m\u001b[38;5;124m\"\u001b[39m\u001b[38;5;124mpost\u001b[39m\u001b[38;5;124m\"\u001b[39m, url\u001b[38;5;241m=\u001b[39mpath, json_data\u001b[38;5;241m=\u001b[39mbody, files\u001b[38;5;241m=\u001b[39mto_httpx_files(files), \u001b[38;5;241m*\u001b[39m\u001b[38;5;241m*\u001b[39moptions\n\u001b[0;32m   1259\u001b[0m     )\n\u001b[1;32m-> 1260\u001b[0m     \u001b[38;5;28;01mreturn\u001b[39;00m cast(ResponseT, \u001b[38;5;28;43mself\u001b[39;49m\u001b[38;5;241;43m.\u001b[39;49m\u001b[43mrequest\u001b[49m\u001b[43m(\u001b[49m\u001b[43mcast_to\u001b[49m\u001b[43m,\u001b[49m\u001b[43m \u001b[49m\u001b[43mopts\u001b[49m\u001b[43m,\u001b[49m\u001b[43m \u001b[49m\u001b[43mstream\u001b[49m\u001b[38;5;241;43m=\u001b[39;49m\u001b[43mstream\u001b[49m\u001b[43m,\u001b[49m\u001b[43m \u001b[49m\u001b[43mstream_cls\u001b[49m\u001b[38;5;241;43m=\u001b[39;49m\u001b[43mstream_cls\u001b[49m\u001b[43m)\u001b[49m)\n",
      "File \u001b[1;32mc:\\D\\my project\\Product_chatbot\\env\\lib\\site-packages\\anthropic\\_base_client.py:937\u001b[0m, in \u001b[0;36mSyncAPIClient.request\u001b[1;34m(self, cast_to, options, remaining_retries, stream, stream_cls)\u001b[0m\n\u001b[0;32m    928\u001b[0m \u001b[38;5;28;01mdef\u001b[39;00m \u001b[38;5;21mrequest\u001b[39m(\n\u001b[0;32m    929\u001b[0m     \u001b[38;5;28mself\u001b[39m,\n\u001b[0;32m    930\u001b[0m     cast_to: Type[ResponseT],\n\u001b[1;32m   (...)\u001b[0m\n\u001b[0;32m    935\u001b[0m     stream_cls: \u001b[38;5;28mtype\u001b[39m[_StreamT] \u001b[38;5;241m|\u001b[39m \u001b[38;5;28;01mNone\u001b[39;00m \u001b[38;5;241m=\u001b[39m \u001b[38;5;28;01mNone\u001b[39;00m,\n\u001b[0;32m    936\u001b[0m ) \u001b[38;5;241m-\u001b[39m\u001b[38;5;241m>\u001b[39m ResponseT \u001b[38;5;241m|\u001b[39m _StreamT:\n\u001b[1;32m--> 937\u001b[0m     \u001b[38;5;28;01mreturn\u001b[39;00m \u001b[38;5;28;43mself\u001b[39;49m\u001b[38;5;241;43m.\u001b[39;49m\u001b[43m_request\u001b[49m\u001b[43m(\u001b[49m\n\u001b[0;32m    938\u001b[0m \u001b[43m        \u001b[49m\u001b[43mcast_to\u001b[49m\u001b[38;5;241;43m=\u001b[39;49m\u001b[43mcast_to\u001b[49m\u001b[43m,\u001b[49m\n\u001b[0;32m    939\u001b[0m \u001b[43m        \u001b[49m\u001b[43moptions\u001b[49m\u001b[38;5;241;43m=\u001b[39;49m\u001b[43moptions\u001b[49m\u001b[43m,\u001b[49m\n\u001b[0;32m    940\u001b[0m \u001b[43m        \u001b[49m\u001b[43mstream\u001b[49m\u001b[38;5;241;43m=\u001b[39;49m\u001b[43mstream\u001b[49m\u001b[43m,\u001b[49m\n\u001b[0;32m    941\u001b[0m \u001b[43m        \u001b[49m\u001b[43mstream_cls\u001b[49m\u001b[38;5;241;43m=\u001b[39;49m\u001b[43mstream_cls\u001b[49m\u001b[43m,\u001b[49m\n\u001b[0;32m    942\u001b[0m \u001b[43m        \u001b[49m\u001b[43mremaining_retries\u001b[49m\u001b[38;5;241;43m=\u001b[39;49m\u001b[43mremaining_retries\u001b[49m\u001b[43m,\u001b[49m\n\u001b[0;32m    943\u001b[0m \u001b[43m    \u001b[49m\u001b[43m)\u001b[49m\n",
      "File \u001b[1;32mc:\\D\\my project\\Product_chatbot\\env\\lib\\site-packages\\anthropic\\_base_client.py:963\u001b[0m, in \u001b[0;36mSyncAPIClient._request\u001b[1;34m(self, cast_to, options, remaining_retries, stream, stream_cls)\u001b[0m\n\u001b[0;32m    960\u001b[0m options \u001b[38;5;241m=\u001b[39m \u001b[38;5;28mself\u001b[39m\u001b[38;5;241m.\u001b[39m_prepare_options(options)\n\u001b[0;32m    962\u001b[0m retries \u001b[38;5;241m=\u001b[39m \u001b[38;5;28mself\u001b[39m\u001b[38;5;241m.\u001b[39m_remaining_retries(remaining_retries, options)\n\u001b[1;32m--> 963\u001b[0m request \u001b[38;5;241m=\u001b[39m \u001b[38;5;28;43mself\u001b[39;49m\u001b[38;5;241;43m.\u001b[39;49m\u001b[43m_build_request\u001b[49m\u001b[43m(\u001b[49m\u001b[43moptions\u001b[49m\u001b[43m)\u001b[49m\n\u001b[0;32m    964\u001b[0m \u001b[38;5;28mself\u001b[39m\u001b[38;5;241m.\u001b[39m_prepare_request(request)\n\u001b[0;32m    966\u001b[0m kwargs: HttpxSendArgs \u001b[38;5;241m=\u001b[39m {}\n",
      "File \u001b[1;32mc:\\D\\my project\\Product_chatbot\\env\\lib\\site-packages\\anthropic\\_base_client.py:459\u001b[0m, in \u001b[0;36mBaseClient._build_request\u001b[1;34m(self, options)\u001b[0m\n\u001b[0;32m    456\u001b[0m     \u001b[38;5;28;01melse\u001b[39;00m:\n\u001b[0;32m    457\u001b[0m         \u001b[38;5;28;01mraise\u001b[39;00m \u001b[38;5;167;01mRuntimeError\u001b[39;00m(\u001b[38;5;124mf\u001b[39m\u001b[38;5;124m\"\u001b[39m\u001b[38;5;124mUnexpected JSON data type, \u001b[39m\u001b[38;5;132;01m{\u001b[39;00m\u001b[38;5;28mtype\u001b[39m(json_data)\u001b[38;5;132;01m}\u001b[39;00m\u001b[38;5;124m, cannot merge with `extra_body`\u001b[39m\u001b[38;5;124m\"\u001b[39m)\n\u001b[1;32m--> 459\u001b[0m headers \u001b[38;5;241m=\u001b[39m \u001b[38;5;28;43mself\u001b[39;49m\u001b[38;5;241;43m.\u001b[39;49m\u001b[43m_build_headers\u001b[49m\u001b[43m(\u001b[49m\u001b[43moptions\u001b[49m\u001b[43m)\u001b[49m\n\u001b[0;32m    460\u001b[0m params \u001b[38;5;241m=\u001b[39m _merge_mappings(\u001b[38;5;28mself\u001b[39m\u001b[38;5;241m.\u001b[39mdefault_query, options\u001b[38;5;241m.\u001b[39mparams)\n\u001b[0;32m    461\u001b[0m content_type \u001b[38;5;241m=\u001b[39m headers\u001b[38;5;241m.\u001b[39mget(\u001b[38;5;124m\"\u001b[39m\u001b[38;5;124mContent-Type\u001b[39m\u001b[38;5;124m\"\u001b[39m)\n",
      "File \u001b[1;32mc:\\D\\my project\\Product_chatbot\\env\\lib\\site-packages\\anthropic\\_base_client.py:414\u001b[0m, in \u001b[0;36mBaseClient._build_headers\u001b[1;34m(self, options)\u001b[0m\n\u001b[0;32m    412\u001b[0m custom_headers \u001b[38;5;241m=\u001b[39m options\u001b[38;5;241m.\u001b[39mheaders \u001b[38;5;129;01mor\u001b[39;00m {}\n\u001b[0;32m    413\u001b[0m headers_dict \u001b[38;5;241m=\u001b[39m _merge_mappings(\u001b[38;5;28mself\u001b[39m\u001b[38;5;241m.\u001b[39mdefault_headers, custom_headers)\n\u001b[1;32m--> 414\u001b[0m \u001b[38;5;28;43mself\u001b[39;49m\u001b[38;5;241;43m.\u001b[39;49m\u001b[43m_validate_headers\u001b[49m\u001b[43m(\u001b[49m\u001b[43mheaders_dict\u001b[49m\u001b[43m,\u001b[49m\u001b[43m \u001b[49m\u001b[43mcustom_headers\u001b[49m\u001b[43m)\u001b[49m\n\u001b[0;32m    416\u001b[0m \u001b[38;5;66;03m# headers are case-insensitive while dictionaries are not.\u001b[39;00m\n\u001b[0;32m    417\u001b[0m headers \u001b[38;5;241m=\u001b[39m httpx\u001b[38;5;241m.\u001b[39mHeaders(headers_dict)\n",
      "File \u001b[1;32mc:\\D\\my project\\Product_chatbot\\env\\lib\\site-packages\\anthropic\\_client.py:194\u001b[0m, in \u001b[0;36mAnthropic._validate_headers\u001b[1;34m(self, headers, custom_headers)\u001b[0m\n\u001b[0;32m    191\u001b[0m \u001b[38;5;28;01mif\u001b[39;00m \u001b[38;5;28misinstance\u001b[39m(custom_headers\u001b[38;5;241m.\u001b[39mget(\u001b[38;5;124m\"\u001b[39m\u001b[38;5;124mAuthorization\u001b[39m\u001b[38;5;124m\"\u001b[39m), Omit):\n\u001b[0;32m    192\u001b[0m     \u001b[38;5;28;01mreturn\u001b[39;00m\n\u001b[1;32m--> 194\u001b[0m \u001b[38;5;28;01mraise\u001b[39;00m \u001b[38;5;167;01mTypeError\u001b[39;00m(\n\u001b[0;32m    195\u001b[0m     \u001b[38;5;124m'\u001b[39m\u001b[38;5;124m\"\u001b[39m\u001b[38;5;124mCould not resolve authentication method. Expected either api_key or auth_token to be set. Or for one of the `X-Api-Key` or `Authorization` headers to be explicitly omitted\u001b[39m\u001b[38;5;124m\"\u001b[39m\u001b[38;5;124m'\u001b[39m\n\u001b[0;32m    196\u001b[0m )\n",
      "\u001b[1;31mTypeError\u001b[0m: \"Could not resolve authentication method. Expected either api_key or auth_token to be set. Or for one of the `X-Api-Key` or `Authorization` headers to be explicitly omitted\""
     ]
    }
   ],
   "source": [
    "from langchain_openai import OpenAIEmbeddings\n",
    "from langchain_community.utils.math import cosine_similarity\n",
    "\n",
    "logic_query_prompt = \"\"\"You are a PostgreSQL expert. Given an input question, first create a syntactically correct PostgreSQL query to run, then look at the results of the query and return the answer to the input question.\n",
    "Unless the user specifies in the question a specific number of examples to obtain, query for at most 5 results using the LIMIT clause as per PostgreSQL. You can order the results to return the most informative data in the database.\n",
    "Never query for all columns from a table. You must query only the columns that are needed to answer the question. Wrap each column name in double quotes (\") to denote them as delimited identifiers.\n",
    "Pay attention to use only the column names you can see in the tables below. Be careful to not query for columns that do not exist. Also, pay attention to which column is in which table.\n",
    "Pay attention to use CURRENT_DATE function to get the current date, if the question involves \"today\".\n",
    "\n",
    "Use the following format:\n",
    "\n",
    "Question: Question here\n",
    "SQLQuery: SQL Query to run\n",
    "SQLResult: Result of the SQLQuery\n",
    "Answer: Final answer here\n",
    "\n",
    "Only use the following tables:\n",
    "\n",
    "Question: \"\"\"\n",
    "semantic_query_prompt = \"\"\"Bạn là AI Chatbot của Công ty CP TM & SX Bao Bì Ánh Sáng hay BBAS. \n",
    "                    Bạn ở đây để trả lời tất cả các câu hỏi về văn hóa doanh nghiệp với các tài liệu bạn được cung cấp. \n",
    "                    Tài liệu được cung cấp: \n",
    "                    Nếu tài liệu được cung cấp là \"Không có tài liệu liên quan đến câu hỏi hoặc yêu cầu này.\" hoặc các tài liệu được cung cấp không liên quan đến câu hỏi hoặc yêu cầu thì trả lời là \\\"Tôi không được cung cấp thông tin để trả lời câu hỏi này\\\"\n",
    "                    Lưu ý: CÁC CHỈ TRẢ LỜI CÁC CÂU HỎI HOẶC YÊU CẦU ĐƯỢC HỎI, KHÔNG THỪA, KHÔNG THIẾU VÀ KHÔNG TỰ Ý TÓM TẮT HAY RÚT NGẮN CÂU TRẢ LỜI\n",
    "                    Câu hỏi:\"\"\"\n",
    "                    \n",
    "prompt_templates = [logic_query_prompt, semantic_query_prompt]\n",
    "prompt_embeddings = embeddings.embed_documents(prompt_templates)\n",
    "query_embedding = embeddings.embed_query(\"Doanh nghiệp có bao nhiêu nhân viên\")\n",
    "similarity = cosine_similarity([query_embedding], prompt_embeddings)[0]\n",
    "similarity"
   ]
  },
  {
   "cell_type": "code",
   "execution_count": 63,
   "metadata": {},
   "outputs": [
    {
     "data": {
      "text/plain": [
       "'Bạn là AI Chatbot của Công ty CP TM & SX Bao Bì Ánh Sáng hay BBAS. \\n                    Bạn ở đây để trả lời tất cả các câu hỏi về văn hóa doanh nghiệp với các tài liệu bạn được cung cấp. \\n                    Tài liệu được cung cấp: \\n                    Nếu tài liệu được cung cấp là \"Không có tài liệu liên quan đến câu hỏi hoặc yêu cầu này.\" hoặc các tài liệu được cung cấp không liên quan đến câu hỏi hoặc yêu cầu thì trả lời là \"Tôi không được cung cấp thông tin để trả lời câu hỏi này\"\\n                    Lưu ý: CÁC CHỈ TRẢ LỜI CÁC CÂU HỎI HOẶC YÊU CẦU ĐƯỢC HỎI, KHÔNG THỪA, KHÔNG THIẾU VÀ KHÔNG TỰ Ý TÓM TẮT HAY RÚT NGẮN CÂU TRẢ LỜI\\n                    Câu hỏi:'"
      ]
     },
     "execution_count": 63,
     "metadata": {},
     "output_type": "execute_result"
    }
   ],
   "source": [
    "most_similar = prompt_templates[similarity.argmax()]\n",
    "most_similar"
   ]
  },
  {
   "cell_type": "code",
   "execution_count": 5,
   "metadata": {},
   "outputs": [
    {
     "name": "stdout",
     "output_type": "stream",
     "text": [
      "Deleted message with ID: 66e170eee8d5477beadd878e\n",
      "Deleted message with ID: 66e170eee8d5477beadd878f\n",
      "True\n",
      "<class 'str'>\n"
     ]
    }
   ],
   "source": [
    "from util import *\n",
    "\n",
    "db = connect_database()\n",
    "question = \"Chiều ngang bao  Bao giấy 25kg TAPX-8\"\n",
    "sql_info = db.get_table_info()\n",
    "config = {\"configurable\": {\"session_id\": \"phuccngo\"}}\n",
    "response = routing(question,sql_info, config)\n",
    "print(response)\n",
    "print(type(response))"
   ]
  },
  {
   "cell_type": "code",
   "execution_count": 1,
   "metadata": {},
   "outputs": [
    {
     "name": "stderr",
     "output_type": "stream",
     "text": [
      "c:\\D\\my project\\Product_chatbot\\util.py:224: LangChainDeprecationWarning: The method `SQLDatabase.get_table_names` was deprecated in langchain-community 0.0.1 and will be removed in 0.3.0. Use get_usable_table_names instead.\n",
      "  sql_info = db.get_table_info([item for item in db.get_table_names() if item != 'packagings'])\n"
     ]
    },
    {
     "name": "stdout",
     "output_type": "stream",
     "text": [
      "0 :  True ,  1\n",
      "1 :  True ,  2\n",
      "2 :  True ,  3\n",
      "3 :  True ,  4\n",
      "4 :  False ,  4\n",
      "5 :  True ,  5\n",
      "6 :  True ,  6\n",
      "7 :  False ,  6\n",
      "8 :  True ,  7\n",
      "9 :  False ,  7\n",
      "10 :  False ,  7\n",
      "11 :  True ,  8\n",
      "12 :  True ,  9\n",
      "13 :  False ,  10\n",
      "14 :  True ,  11\n",
      "15 :  False ,  11\n",
      "16 :  False ,  12\n",
      "17 :  False ,  13\n",
      "18 :  False ,  13\n",
      "19 :  False ,  13\n",
      "20 :  False ,  13\n",
      "21 :  False ,  13\n",
      "22 :  False ,  13\n",
      "23 :  False ,  13\n"
     ]
    },
    {
     "data": {
      "text/plain": [
       "54.166666666666664"
      ]
     },
     "execution_count": 1,
     "metadata": {},
     "output_type": "execute_result"
    }
   ],
   "source": [
    "#Evaluation routing\n",
    "from util import *\n",
    "questions = [\n",
    "    (\"nguyên liệu mà bao Vitec Grout chứa là gì\",\"True\"),\n",
    "    (\"chiều ngang bao  Bao giấy dán đáy 3 lớp giấy là bao nhiêu, cả ảnh minh họa\",\"True\"),\n",
    "    (\"nguyên liệu mà bao kpk không in chứa là gì\",\"True\"),\n",
    "    (\"Bao REP chứa được bao nhiêu ký\",\"True\"),\n",
    "    (\"thị trường tiêu thụ của loại bao NPK 20.5.15 Xanh Én này ở đâu\",\"True\"),\n",
    "    (\"nguyên liệu mà bao kpk không in chứa là gì\",\"True\"),\n",
    "    (\"quy trình sản xuất Bao giấy 25kg TAPX-8 gồm bao nhiêu bước\",\"True\"),\n",
    "    (\"thị trường tiêu thụ bao bột trét tường City ngoài trời\",\"True\"),\n",
    "    (\"ngành mà Bao hạt nhựa VEP 25KG được dùng\",\"True\"),\n",
    "    (\"thời gian bảo quản của bao Zucca Zeo\",\"True\"),\n",
    "    (\"ngành sử dụng bao Zucca Zeo là ngành nào\",\"True\"),\n",
    "    (\"nguyên liệu mà bao bì giấy Size L (Blue) chứa là gì\",\"True\"),\n",
    "    (\"bao đựng hạt nhựa TRIREX chứa bao nhiêu kí\",\"True\"),\n",
    "    (\"đặc điểm của bao bì từ hộp giấy bìa dạng hộp nhóm D\",\"False\"),\n",
    "    (\"trình bày sơ đồ quy trình sản xuất Bao giấy 25kg TAPX-8\",\"True\"),\n",
    "    (\"bao zucca zeo thì dùng chứa gì\",\"True\"),\n",
    "    (\"đặc điểm chung của bao bì\",\"False\"),\n",
    "    (\"tính năng chứa đựng của bao bì là gì\",\"False\"),\n",
    "    (\"bao KP đựng hạt nhựa ECOTHANE dùng trong ngành nào\",\"True\"),\n",
    "    (\"ngành công nghiệp sử dụng bao KP đựng hạt nhựa ECOTHANE  để chứa là ngành công nghiệp nào\",\"True\"),\n",
    "    (\"bao KP đựng hạt nhựa ECOTHANE 25kg  dùng để chứa gì\",\"True\"),\n",
    "    (\"dùng bao KP đựng hạt nhựa ECOTHANE 25kg  để chứa gì\",\"True\"),\n",
    "    (\"thị trường chủ yếu của bao KP đựng hạt nhựa ECOTHANE\",\"True\"),\n",
    "    (\"dung sai chiều dài bao giấy dán đáy 3 lớp giấy là bao nhiêu\",\"True\"),\n",
    "    (\"tính năng bảo vệ sản phẩm của bao bì thì sao\",\"False\"),\n",
    "    (\"bao bì vận chuyển là gì\",\"False\"),\n",
    "    (\"các loại bao bì khi phân loại theo vật liệu\",\"False\"),\n",
    "    (\"nói chi tiết hơn về bao bì từ giấy\",\"False\"),\n",
    "     ]\n",
    "config = {\"configurable\": {\"session_id\": \"phuccngo\"}}\n",
    "db = connect_database()\n",
    "sql_info = get_table_info_with_full_packagings_samples(db)\n",
    "correct = 0\n",
    "for idx, question in enumerate(questions):\n",
    "    response = routing(question[0],sql_info, config)\n",
    "    if response == question[1]:\n",
    "        correct += 1\n",
    "    print(idx,\": \",response,\", \",correct)\n",
    "correct*100/len(questions)"
   ]
  },
  {
   "cell_type": "code",
   "execution_count": 2,
   "metadata": {},
   "outputs": [
    {
     "data": {
      "text/plain": [
       "'\\nCREATE TABLE packagings (\\n\\tid VARCHAR(255) NOT NULL, \\n\\tpackaging_name VARCHAR(255), \\n\\tindustry VARCHAR(255), \\n\\traw_materials_contained VARCHAR(255), \\n\\tmass VARCHAR(255), \\n\\tstorage_time VARCHAR(255), \\n\\tmarket VARCHAR(255), \\n\\tCONSTRAINT packagings_pkey PRIMARY KEY (id)\\n)\\n\\n/*\\n3 rows from packagings table:\\nid\\tpackaging_name\\tindustry\\traw_materials_contained\\tmass\\tstorage_time\\tmarket\\nBT1KH00051KP0001\\tBao giấy 25kg TAPX-8\\tBột - Thực phẩm\\tBột mì\\t25kg\\t12 tháng\\tTrong nước + Xuất khẩu\\nBT0KH00000KP0000\\tBao giấy dán đáy 3 lớp giấy - dán nẹp đầu bao\\t\\t\\t\\t\\t\\nHN1KH00089KP0003\\tBao hạt nhựa VEP 25KG (56x83)\\tHạt nhựa\\tHạt nhựa\\t25kg\\t12 tháng\\tTrong nước\\nXD2KH00073BP0002\\tBao Keo dán gạch 25kg ( Hồng)\\tPhụ gia xây dựng\\tKeo dán gạch\\t25kg\\t12 tháng\\tTrong nước\\nBT1KH00050KP0001\\tBao KP 25kg\\tBột - Thực phẩm\\tBột mì\\t25kg\\t12 tháng\\tTrong nước + Xuất khẩu\\nBT1KH00000KP0000\\tBao giấy Dán Đáy 2 Đầu - 3 Lớp Giấy\\t\\t\\t\\t\\t\\nXD4KH00009BP0006\\tBao Best Tile CE075 25kg\\tPhụ gia thực phẩm\\tKeo dán gạch\\t25kg\\t12 tháng\\tTrong nước\\nTA1KH00077OP0001\\tBao REP 10kg\\tThức ăn chăn nuôi\\tThức ăn chăn nuôi\\t10kg\\t12 tháng\\tTrong nước\\nXD4KH00159BP0005\\tBao Vitec Grout 25kg\\tPhụ gia xây dựng\\tVữa rót không co ngót\\t25kg\\t12 tháng\\tTrong nước\\nXD2KH00066BP0010\\tBao Webertai A500 40kg\\tPhụ gia xây dựng\\tKeo dán gạch\\t40kg\\t12 tháng\\tTrong nước\\nHN1KH00096KP0001\\tBao bì giấy Size L (Blue)\\tHạt nhựa\\tHạt nhựa\\t25kg\\t12 tháng\\tTrong nước + Xuất khẩu\\nBT1KH00335KP0001\\tBao KPK không in\\tBột-Thực phẩm\\tBột mì\\t25kg\\t12 tháng\\tTrong nước + xuất khẩu\\nHC2KH00139OP0011\\tBao Zucca Zeo 20kg\\tHóa chất-thủy sản\\tZeolite\\t20kg\\t24 tháng\\tTrong nước\\nXD1KH00177BP0001\\tBao bột trét tường City ngoài trời\\tPhụ gia xây dựng\\tBột trét tường\\t40kg\\t12 tháng\\tTrong nước\\nXD1KH00074OP0006\\tBao bột trét tường ngoại thất NEWSTAR 40Kg\\tPhụ gia xây dựng\\tBột trét tường\\t40kg\\t12 tháng\\tTrong nước\\nHN1KH00063KP0005\\tBao đựng hạt nhựa TRIREX 25kg\\tHạt nhựa\\tHạt nhựa kỹ thuật\\t25kg\\t12 tháng\\tTrong nước + Xuất khẩu\\nHN1KH00305KP0002\\tBao KP đựng hạt nhựa ECOTHANE 25kg\\tHạt nhựa\\tHạt nhựa\\t25kg\\t12 tháng\\tTrong nước + Xuất khẩu\\nPB1KH00079BP0032\\tBao NPK 20.5.15 Xanh Én\\tPhân bón\\tPhân bón NPK\\t50kg\\t24 tháng\\tTrong nước\\n\\n\\nCREATE TABLE detailed_description_of_the_manufacturing_process (\\n\\tid VARCHAR(255) NOT NULL, \\n\\tstep VARCHAR(255) NOT NULL, \\n\\tdescription VARCHAR(500), \\n\\timage_path VARCHAR(255), \\n\\tCONSTRAINT detailed_description_of_the_manufacturing_process_pkey PRIMARY KEY (id, step), \\n\\tCONSTRAINT detailed_description_of_the_manufacturing_process_id_fkey FOREIGN KEY(id) REFERENCES packagings (id)\\n)\\n\\n/*\\n3 rows from detailed_description_of_the_manufacturing_process table:\\nid\\tstep\\tdescription\\timage_path\\nBT1KH00051KP0001\\tNhập nguyên vật liệu\\tDựa vào định mức nguyên vật liệu, nhập tất cả các nguyên vật liệu cần sử dụng cho đơn hàng\\timg\\\\produces_property\\\\43-detailed_description_of_the_manufacturing_process-1.png\\nBT1KH00051KP0001\\tKéo sợi\\tNguyên vật liệu được cho vào bồn trộn theo tỷ lệ tiêu chuẩn, đi qua hệ thống đùn được nấu nóng chảy \\timg\\\\produces_property\\\\43-detailed_description_of_the_manufacturing_process-2.png\\nBT0KH00000KP0000\\tNhập nguyên vật liệu\\tDựa vào định mức nguyên vật liệu, nhập tất cả các nguyên vật liệu cần sử dụng cho đơn hàng\\timg\\\\produces_property\\\\76-detailed_description_of_the_manufacturing_process-1.png\\n*/\\n\\n\\nCREATE TABLE packaging_materials (\\n\\tid VARCHAR(255) NOT NULL, \\n\\tmaterial_name VARCHAR(255) NOT NULL, \\n\\traw_material VARCHAR(255), \\n\\tspecification VARCHAR(255), \\n\\timage_path VARCHAR(255), \\n\\tCONSTRAINT packaging_materials_pkey PRIMARY KEY (id, material_name), \\n\\tCONSTRAINT packaging_materials_id_fkey FOREIGN KEY(id) REFERENCES packagings (id)\\n)\\n\\n/*\\n3 rows from packaging_materials table:\\nid\\tmaterial_name\\traw_material\\tspecification\\timage_path\\nBT1KH00051KP0001\\tGiấy\\tGiấy Kraft vàng nhật\\tKhổ: 1020mm (±10mm), định lượng: 70 g/m2, khối lượng: 67.8g/bao\\timg\\\\produces_property\\\\43-7.png\\nBT1KH00051KP0001\\tMực in Flexo\\tXanh dương B01F, Vàng 20, Đỏ 1379R\\tXanh dương B01F: 0.36g/bao, Vàng 20: 0.51g/bao, Đỏ 1379R: 0.43g/bao\\timg\\\\produces_property\\\\43-8.png\\nBT0KH00000KP0000\\tGiấy in/tuýp/ghép\\tGiấy Kraft vàng nhật\\tKhổ: 850mm (±10mm), Định lượng: 70 g/m2\\timg\\\\produces_property\\\\43-7.png\\n*/\\n\\n\\nCREATE TABLE packaging_sizes (\\n\\tid VARCHAR(255) NOT NULL, \\n\\tsize_type VARCHAR(255) NOT NULL, \\n\\tlength VARCHAR(255), \\n\\ttolerance VARCHAR(255), \\n\\timage_path VARCHAR(255), \\n\\tCONSTRAINT packaging_sizes_pkey PRIMARY KEY (id, size_type), \\n\\tCONSTRAINT packaging_sizes_id_fkey FOREIGN KEY(id) REFERENCES packagings (id)\\n)\\n\\n/*\\n3 rows from packaging_sizes table:\\nid\\tsize_type\\tlength\\ttolerance\\timage_path\\nBT1KH00051KP0001\\tChiều ngang bao\\t500\\t± 10mm\\timg\\\\produces_property\\\\43-1.png\\nBT1KH00051KP0001\\tChiều dài bao\\t950\\t± 10mm\\timg\\\\produces_property\\\\43-1.png\\nBT1KH00051KP0001\\tTúi PE\\tChiều ngang: 520mm, Chiều dài: 1100 mm, Đáy: 5cm, Khối lượng: 30gr\\tKích thước : ± 10mm, Khối lượng : ± 1gr\\timg\\\\produces_property\\\\43-2.png\\n*/\\n\\n\\nCREATE TABLE production_process_diagram (\\n\\tid VARCHAR(255) NOT NULL, \\n\\timage_path VARCHAR(255), \\n\\tCONSTRAINT production_process_diagram_pkey PRIMARY KEY (id), \\n\\tCONSTRAINT production_process_diagram_id_fkey FOREIGN KEY(id) REFERENCES packagings (id)\\n)\\n\\n/*\\n3 rows from production_process_diagram table:\\nid\\timage_path\\nBT1KH00051KP0001\\timg\\\\produces_property\\\\43-production_process_diagram.png\\nBT0KH00000KP0000\\timg\\\\produces_property\\\\76-production_process_diagram.png\\n*/'"
      ]
     },
     "execution_count": 2,
     "metadata": {},
     "output_type": "execute_result"
    }
   ],
   "source": [
    "sql_info"
   ]
  },
  {
   "cell_type": "markdown",
   "metadata": {},
   "source": [
    "# delete db"
   ]
  },
  {
   "cell_type": "code",
   "execution_count": 8,
   "metadata": {},
   "outputs": [
    {
     "data": {
      "text/plain": [
       "23"
      ]
     },
     "execution_count": 8,
     "metadata": {},
     "output_type": "execute_result"
    }
   ],
   "source": [
    "#Kiểm tra toàn bộ cơ sở dữ liệu\n",
    "from pymongo import MongoClient\n",
    "query = {'SessionId': 'phuccngo'}\n",
    "dbclient = MongoClient('mongodb://localhost:27017/')\n",
    "db = dbclient['product_chat_database']\n",
    "conversations_collection = db['messages']\n",
    "result = conversations_collection.count_documents(query)\n",
    "result"
   ]
  },
  {
   "cell_type": "code",
   "execution_count": 1,
   "metadata": {},
   "outputs": [
    {
     "name": "stdout",
     "output_type": "stream",
     "text": [
      "No messages found.\n"
     ]
    }
   ],
   "source": [
    "from pymongo import MongoClient\n",
    "from datetime import datetime\n",
    "\n",
    "# MongoDB connection details\n",
    "mongo_uri = 'mongodb://localhost:27017/'\n",
    "database_name = 'product_chat_database'\n",
    "collection_name = 'messages'\n",
    "\n",
    "# Connect to MongoDB\n",
    "client = MongoClient(mongo_uri)\n",
    "db = client[database_name]\n",
    "collection = db[collection_name]\n",
    "\n",
    "def delete_most_recent_message():\n",
    "    mongo_uri = 'mongodb://localhost:27017/'\n",
    "    database_name = 'product_chat_database'\n",
    "    collection_name = 'messages'\n",
    "    client = MongoClient(mongo_uri)\n",
    "    db = client[database_name]\n",
    "    collection = db[collection_name]\n",
    "    try:\n",
    "        # Retrieve the most recent message\n",
    "        most_recent_message = collection.find_one(sort=[('timestamp', -1)])\n",
    "        \n",
    "        if most_recent_message:\n",
    "            most_recent_message_id = most_recent_message['_id']\n",
    "\n",
    "            # Delete the most recent message\n",
    "            collection.delete_one({'_id': most_recent_message_id})\n",
    "            print(f\"Deleted message with ID: {most_recent_message_id}\")\n",
    "        else:\n",
    "            print(\"No messages found.\")\n",
    "    except Exception as e:\n",
    "        print(f\"An error occurred: {e}\")\n",
    "    finally:\n",
    "        # Close the MongoDB connection\n",
    "        client.close()\n",
    "\n",
    "# Usage\n",
    "delete_most_recent_message()"
   ]
  },
  {
   "cell_type": "markdown",
   "metadata": {},
   "source": [
    "# Query Transformations\n",
    "\n",
    "Hiện tại chưa được sử dụng vì chưa được cung cấp dữ liệu của db để chuẩn hóa câu hỏi. Và nếu được cung cấp thì có nguy cơ sẽ chuẩn hóa theo db sql không theo hướng tài liệu khác, gây ra sự không chính xác"
   ]
  },
  {
   "cell_type": "code",
   "execution_count": 78,
   "metadata": {},
   "outputs": [],
   "source": [
    "from langchain_core.prompts import ChatPromptTemplate, FewShotChatMessagePromptTemplate\n",
    "from langchain_openai import ChatOpenAI\n",
    "from langchain_core.output_parsers import StrOutputParser\n",
    "examples = [\n",
    "    {\n",
    "        \"input\": \"hãy kể cho tôi chi tiết các bước của quy trình sản xuất của Bao dán đáy 3 lớp giấy\",\n",
    "        \"output\": \"Chi tiết các bước quy trình sản xuất bao dán đáy 3 lớp giấy\",\n",
    "    },\n",
    "    {\n",
    "        \"input\": \"số bước trong quy trình sản xuất Bao giấy 25kg TAPX-8\",\n",
    "        \"output\": \"có bao nhiêu bước trong quy trình sản xuất bao giấy 25kg TAPX-8\",\n",
    "    },\n",
    "]\n",
    "# We now transform these to example messages\n",
    "example_prompt = ChatPromptTemplate.from_messages(\n",
    "    [\n",
    "        (\"human\", \"{input}\"),\n",
    "        (\"ai\", \"{output}\"),\n",
    "    ]\n",
    ")\n",
    "few_shot_prompt = FewShotChatMessagePromptTemplate(\n",
    "    example_prompt=example_prompt,\n",
    "    examples=examples,\n",
    ")\n",
    "prompt = ChatPromptTemplate.from_messages(\n",
    "    [\n",
    "        (\n",
    "            \"system\",\n",
    "            \"\"\"Bạn là một chuyên gia về kiến thức toàn cầu. Nhiệm vụ của bạn là tạo ra một câu hỏi dựa trên lịch sử tin nhắn và câu hỏi hiện tại để dễ dàng trả lời hơn.\n",
    "            LƯU Ý: HÃY GIỮ LẠI CÁC CHỦ NGỮ ĐÃ ĐƯỢC SỬ DỤNG Ở CÂU HỎI\n",
    "            Lịch sử tin nhắn:\n",
    "            {history}\n",
    "            Đây là 1 số ví dụ:\"\"\",\n",
    "        ),\n",
    "        # Few shot examples\n",
    "        few_shot_prompt,\n",
    "        # New question\n",
    "        (\"user\", \"{question}\"),\n",
    "    ]\n",
    ")"
   ]
  },
  {
   "cell_type": "code",
   "execution_count": 79,
   "metadata": {},
   "outputs": [],
   "source": [
    "from langchain_core.messages import (\n",
    "    trim_messages,\n",
    ")\n",
    "from langchain_core.runnables import RunnablePassthrough\n",
    "from langchain_core.runnables.history import RunnableWithMessageHistory\n",
    "from operator import itemgetter\n",
    "from util import *\n",
    "\n",
    "llm = ChatOpenAI(model=\"gpt-4o-2024-08-06\", temperature=0)\n",
    "token_counter_model = ChatOpenAI(model=\"gpt-4o-mini-2024-07-18\", temperature=0)\n",
    "trimmer = trim_messages(\n",
    "    max_tokens=500,\n",
    "    strategy=\"last\",\n",
    "    token_counter=token_counter_model,\n",
    "    include_system=True,\n",
    "    allow_partial=False,\n",
    "    start_on=\"human\",\n",
    ")\n",
    "chain = (\n",
    "    RunnablePassthrough.assign(messages=itemgetter(\"question\") | trimmer)\n",
    "    | (lambda output: (output.update({'question': output['messages']}), output)[-1])\n",
    "    | (lambda output: (\n",
    "        output.update({'history': output['question'][:-1]}),\n",
    "        output.update({'question': output['question'][-1]}),\n",
    "        print(output['history']),\n",
    "        output)[-1])\n",
    "    | prompt\n",
    "    | llm\n",
    "    | StrOutputParser()\n",
    ")\n",
    "generate_queries_step_back = RunnableWithMessageHistory(\n",
    "    chain,\n",
    "    get_session_history_mongodb,\n",
    "    input_messages_key=\"question\", #Which key is user's input\n",
    ")\n"
   ]
  },
  {
   "cell_type": "code",
   "execution_count": 81,
   "metadata": {},
   "outputs": [
    {
     "name": "stdout",
     "output_type": "stream",
     "text": [
      "[HumanMessage(content='quy trình sản xuất của  Bao dán đáy 3 lớp giấy gồm bao nhiêu bước'), AIMessage(content='Quy trình sản xuất của bao dán đáy 3 lớp giấy gồm 2 bước.')]\n",
      "-----messages-----\n",
      "quy trình sản xuất của  Bao dán đáy 3 lớp giấy gồm bao nhiêu bước\n",
      "Quy trình sản xuất của bao dán đáy 3 lớp giấy gồm 2 bước.\n",
      "đặc điểm của bao bì từ hộp giấy bìa dạng hộp nhóm D\n",
      "đặc điểm của bao bì từ hộp giấy bìa dạng hộp nhóm D là gì?\n",
      "--------out--------\n",
      "Deleted message with message: đặc điểm của bao bì từ hộp giấy bìa dạng hộp nhóm D là gì?\n",
      "Deleted message with message: đặc điểm của bao bì từ hộp giấy bìa dạng hộp nhóm D\n"
     ]
    },
    {
     "data": {
      "text/plain": [
       "'đặc điểm của bao bì từ hộp giấy bìa dạng hộp nhóm D là gì?'"
      ]
     },
     "execution_count": 81,
     "metadata": {},
     "output_type": "execute_result"
    }
   ],
   "source": [
    "question = \"đặc điểm của bao bì từ hộp giấy bìa dạng hộp nhóm D\"\n",
    "config = {\"configurable\": {\"session_id\": \"phuccngo\"}}\n",
    "result = generate_queries_step_back.invoke(\n",
    "    {\n",
    "        \"question\": question\n",
    "    },\n",
    "    config=config,\n",
    ")\n",
    "delete_two_most_recent_message(config['configurable']['session_id'])\n",
    "result"
   ]
  }
 ],
 "metadata": {
  "kernelspec": {
   "display_name": "env",
   "language": "python",
   "name": "python3"
  },
  "language_info": {
   "codemirror_mode": {
    "name": "ipython",
    "version": 3
   },
   "file_extension": ".py",
   "mimetype": "text/x-python",
   "name": "python",
   "nbconvert_exporter": "python",
   "pygments_lexer": "ipython3",
   "version": "3.10.10"
  }
 },
 "nbformat": 4,
 "nbformat_minor": 2
}
