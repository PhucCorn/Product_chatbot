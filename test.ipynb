{
 "cells": [
  {
   "cell_type": "code",
   "execution_count": 21,
   "metadata": {},
   "outputs": [
    {
     "name": "stdout",
     "output_type": "stream",
     "text": [
      "<class 'list'>\n",
      "before sum\n",
      "Limit Token: Hệ thống sẽ chạy lại\n"
     ]
    }
   ],
   "source": [
    "import re\n",
    "from langchain_core.documents import Document\n",
    "from langchain_community.document_loaders import TextLoader\n",
    "from splitter import *\n",
    "from retriever import *\n",
    "\n",
    "# Định nghĩa regex pattern cho các tiêu đề (sections)\n",
    "patterns = [\n",
    "    r'(?<=\\n)Chương \\d+: .+',  # Mục lớn như \"Chương 1: TỔNG QUAN VỀ BAO BÌ\"\n",
    "    r'(?<=\\n)\\d+\\.\\d+ .+',  # Mục nhỏ hơn như \"1.1 ĐẶC ĐIỂM CHUNG\"\n",
    "    r'(?<=\\n)\\d+\\.\\d+\\.\\d+ .+',  # Mục nhỏ hơn nữa như \"1.1.1 Đặc điểm chung của bao bì\"\n",
    "    r'(?<=\\n)\\d+\\.\\d+\\.\\d+\\.\\d+ .+'  # Mục nhỏ hơn nữa như \"1.1.2.1 Tính năng chứa đựng sản phẩm\"\n",
    "]\n",
    "\n",
    "# Chia tài liệu thành các đoạn\n",
    "loaders = TextLoader(\"doc/\"+\"spkt.txt\", encoding = 'UTF-8')\n",
    "docs = [loaders.load()]\n",
    "splitter = PatternSplitter(patterns)\n",
    "split_docs = splitter.split_documents(docs[0])\n",
    "# In các đoạn\n",
    "def beautiful_print(split_docs):\n",
    "    for split_doc in split_docs:\n",
    "        print(\" \".join([split_doc.metadata['chapter'],split_doc.metadata['section'],split_doc.metadata['subsection'],split_doc.metadata['subsubsection'],]))\n",
    "        if type(split_doc.metadata['summary']) is str:\n",
    "            print(split_doc.metadata['summary'][:50])\n",
    "        else:\n",
    "            print(split_doc.metadata['summary'])\n",
    "        print(\"----------\")\n",
    "        beautiful_print(split_doc.metadata[\"subtree\"])\n",
    "\n",
    "         \n",
    "beautiful_print(split_docs)\n"
   ]
  },
  {
   "cell_type": "code",
   "execution_count": 20,
   "metadata": {},
   "outputs": [
    {
     "name": "stdout",
     "output_type": "stream",
     "text": [
      "    characteristics of packaging from cardboard boxes type group B\n",
      "Bao bì hộp từ giấy bìa: Là bao bì dạng hộp được sản xuất từ giấy bìa (giấy có định lượng lớn hơn 160 g/m²). Hộp bao gồm một hay nhiều mảnh được cấn và bế. Các đường bế tạo đường viền mảnh hộp, các đường cấn tạo đường nếp để gấp hộp, các mảnh bế sau đó có thể được gấp và dán. Các hộp sau khi gấp dán được lưu trữ và vận chuyển đến khách hàng ở thể phẳng, sau đó được dựng thành hộp trong quá trình đóng gói.\n",
      "Các mảnh bế là các mảnh phẳng có các đường viền được cắt theo hình dạng trải phẳng của hộp. Các đường phân cách giữa các diện của hộp là các đường cần có nhiệm vụ tạo nếp gấp, các đường này là cơ sở cho việc dựng hộp từ khổ phẳng sang không gian ba chiều.\n",
      "Do tính dễ vận chuyển, lưu trữ nên các dạng hộp hình hộp chữ nhật được sử dụng rộng rãi trong công nghiệp và cuộc sống. Ngoài bao bì dạng hình hộp chữ nhật, với đặc tính dễ định hình của giấy bìa và khả năng linh hoạt của quá trình cấn bế, và yêu cầu hấp dẫn người tiêu dùng, bao bì hộp từ giấy bìa có rất nhiều hình dạng khác nhau.\n",
      "Các mẫu hộp khá phong phú, từ những dạng hộp cơ bản có thân là hình hộp chữ nhật với nắp (đáy) dán đơn giản thuận tiện khi đóng gói trên dây chuyền tự động, đến các kiểu hộp có thân là những hình đặc biệt như lăng trụ đáy lục giác, bát giác hay hình chóp, chóp cụt với các kiểu nắp cài xoăn đặc biệt tạo hình như những bông hoa, từ các dạng hộp có dạng trụ ống đến các dạng hộp dạng khay nông. Để tạo thuận tiện cho việc lựa chọn kiểu dáng bao bì hộp, trong quá trình phát triển hệ thống bao bì cần tham khảo các bộ thư viện về kiểu dáng bao bì.\n",
      "Một trong những thư viện mẫu hộp được sử dụng thông dụng nhất là European Carton Makers Association code book. Đây là thư viện các mẫu hộp đã được ECMA thu thập, phân nhóm và mã hoá.\n",
      "ECMA code book mã hóa các dạng hộp cơ bản theo các nhóm như sau:\n",
      "- A- Các dạng hộp hình hộp chữ nhật, được dán nối ở cạnh hông, các mặt hộp kế cạnh nhau nằm trên những mặt phẳng vuông góc với nhau.\n",
      "- B- Các dạng hộp hình hộp chữ nhật không có các mối dán hông, dạng khay. Việc ghép nối các cạnh được hình thành bởi các kiểu gài khác nhau, hoặc dán ở góc.\n",
      "- C- Các dạng hộp không phải là hình hộp chữ nhật, được dán nối ở cạnh hông, một số mặt của hộp không phải là hình chữ nhật, có thể tạo với mặt hộp chính một góc nhọn hoặc tù.\n",
      "- D- Các dạng hộp không phải hình hộp chữ nhật, không có các mối dán hông, dạng khay. Việc ghép nối các cạnh được hình thành bởi các kiểu gài khác nhau, hoặc dán ở góc\n",
      "- E- Đây là những dạng hộp dành để đóng gói một nhóm sản phẩm: như một lốc bia, một chục trứng...\n",
      "- F- Các dạng hộp có cấu trúc đặc biệt không nằm trong nhóm từ A-E\n",
      "* Các dạng hộp nhóm A còn được gọi là tube style. Các dạng hộp này đều được dán hông trên thiết bị gấp dán tự động theo sơ dồ hình 2.13, keo được bôi ở tai dán ở mặt in, sau đó hộp được gấp theo đường gấp thứ 2 và thứ 4 của hộp, hộp được ép và dán mí hông với nhau (hình 2.13, hình 2.20)\n",
      "Cách dán hông này ứng dụng để dán hông hộp cho các dạng hộp hình trụ khác có đáy là hình lục giác, bát giác.. (hình 2.14)\n",
      "Trong mỗi nhóm hộp, các dạng hộp được phân loại nhỏ hơn theo đặc điểm của các hình dạng nắp, hình dạng đáy hộp, kiểu gài nắp, kiểu cài đáy....tương ứng với các đặc điểm này là công năng tăng thêm, các phương án cấn bế, dán hộp và dựng hộp, đóng nắp hộp khi đóng gói bao bì.\n",
      "Hình 2.15 mô tả hộp A110 (theo phân loại của ECMA). Đây là dạng hộp cài nắp vô cùng thông dụng, được sử dụng khá rộng rãi để đóng gói hầu hết các dạng sản phẩm. Hộp có khả năng được dán hông tự động trên máy gấp dán hộp (hình 2.13), được dựng hộp, rót sản phẩm và đóng nắp trên các dây chuyển đóng gói tự động. Người ta có thể bổ sung thêm một số chi tiết để cải tiến hỗ trợ khả năng cài khóa hộp (hình 2.16, 2.18) hoặc hỗ trợ việc xé hộp (hình 2.17).\n",
      "Hình 2.19 mô tả hộp A220 (theo phân loại của ECMA). Đây là dạng hộp dán nắp vô cùng thông dụng, được sử dụng khá rộng rãi để đóng gói hầu hết các dạng sản phẩm. Hộp có khả năng được dán hông tự động trên máy gấp dán hộp (hình 2.20); hộp được dựng, rót sản phẩm và đóng nắp trên các dây chuyền đóng gói tự động hình 2.21\n",
      "Hình dạng của nắp cài này được cải tiến hoặc bổ sung thêm một số chi tiết để hộp vẫn giữ được khả năng đóng gói và dán nắp trên dây chuyền đóng gói tự động, như nguyên mẫu của nó, đồng thời bổ sung thêm khả năng cài nắp để đóng kín hộp trong quá trình sử dụng sau khi đã mở keo dán nắp hộp (hình2.22)\n",
      "Ngoài hai dạng nắp cài tiêu chuẩn (A110) và nắp dán tiêu chuẩn (A-220) cùng một số biến thể của nó như đã trình bày ở trên, còn có một số kiểu cài, khóa nắp và đáy khác.\n",
      "Hình 2.23 mô tả dạng đáy hộp cài khóa (mã đáy cài và khóa 04 -Snap lock base) và cách thức cài khóa đáy hộp.\n",
      "Hình 2.24 mô tả dạng đáy hộp dán khóa (mã đáy dán và khóa 05- Crashlock base). Dạng đáy này được dán trên thiết bị gấp dán hộp tự động cùng lúc với dán hông hộp theo sơ đồ hình 2.25. Sau đó hộp sẽ được dựng lên trong dây chuyền đóng gói. Lúc này đáy hộp đã dán trước sẽ được gài chặt tự động. Đây là một kiểu đáy hộp rất tiện lợi cho các dây chuyền đóng gói, vì đáy hộp được khóa chắc và khi đóng gói bớt được công đoạn cài đáy hộp (hình 2.26).\n",
      "Ngoài các kiểu nắp và đáy hộp thông dụng như đã trình bày trên các dạng hộp còn có các kiểu nắp và đáy hộp khác như các dạng nắp cài vặn xoắn tạo hình nắp để trang trí- hình 2.27; các dạng nắp được cài chặt khi chèn và khóa các tai vào nhau - hình 2.28; các dạng nắp cài kết hợp công năng làm vách ngăn trong lòng hộp hình 2.29; nắp cài kết hợp công năng làm quai xách - hình 2.30.\n",
      "* Các dạng hộp nhóm B còn được gọi là tray style, gồm các dạng hộp hình hộp chữ nhật không có các mối dán hông. Việc ghép nối các cạnh được hình thành bởi các kiểu gài khác nhau hoặc được dán ở các góc trên thiết bị gấp dán tự động.\n",
      "Dạng khay dán cơ bản là khay dán bốn góc (4 corner boxes - hình 2.31). Khay sau khi bế, sẽ được dán bốn góc trên thiết bị gấp dán hộp tự động (hình 2.32). Khay được giao hàng khi ở dạng xếp phẳng nên rất gọn và dễ vận chuyển, đồng thời, khi đóng gói khay được dựng nhanh chóng trên dây chuyền đóng gói không cần các công đoạn dán hay cài hộp (hình 2.33), vì vậy chúng được sử dụng rộng rãi. \n",
      "Dạng khay dán cơ bản khác là khay dán sáu góc (6 corner boxes hình 2.34). Khác với khay dán bốn góc, khay dán sáu góc bao gồm phần đáy và nắp, hộp sau khi bế sẽ được dán sáu góc trên thiết bị gấp dán hộp tự động (hình 2.35). Hộp được giao hàng khi ở dạng xếp phẳng nên rất gọn và dễ vận chuyển; đồng thời, khi đóng gói, khay được dựng nhanh chóng trên dây chuyền đóng gói không cần các công đoạn dán hay cài hộp (hình 2.36), vì vậy chúng cũng được sử dụng rộng rãi.\n",
      "Dạng khay dán bốn góc có nắp (4 corner boxes with lid) cũng được dán như hộp dán bốn góc trên thiết bị gấp dán. Tuy nhiên khay có thêm nắp đóng (hình 2.37)\n",
      "Ba dạng khay trên có chung đặc điểm là các góc hộp được dán trên thiết bị gấp dán hộp trước khi giao cho nhà sản xuất để đóng gói. Tuy nhiên, để đảm bảo sau khi dán khay vẫn có thể xếp thành dạng phẳng, các khay trên bắt buộc phải có các đường cần xéo một góc 45 độ tại những góc cần dán. Chính đường gấp này làm mất tính thẩm mỹ của hộp khi trưng bày, vì vậy các nhà sản xuất thường sử dụng dạng khay bốn hoặc sáu góc (hình 2.38 và 2.39); hộp được bế và giao các mảnh bế cho nhà sản xuất hàng tiêu dùng; hộp không được dán trên thiết bị gấp dán hộp mà được dựng hộp, dán góc trên dây chuyền đóng gói (hình 2.40)\n",
      "Với các dạng khay, yêu cầu chịu lực lên thành khay là rất quan trọng nên, trong các trường hợp cần thiết, người ta sử dụng các dạng khay có thành khay đôi (hình 2.41; 2.42) hoặc thành khay có cấu trúc rỗng, tạo các thành khay có bề dày lớn (hình 2.43), với các cấu trúc cài chặt khác nhau, không sử dụng phương án dán các góc khay. Còn có rất nhiều dạng khay thuộc nhóm B với các kiểu cài khác nhau; có thể tham khảo thêm các dạng khay ở bảng 6.3 (chương 6)\n",
      "* Các dạng hộp nhóm C: cũng có dạng ống giống nhóm A, được dán nối ở cạnh hông, tuy nhiên một số mặt của hộp không phải là hình chữ nhật, có thể tạo với mặt hộp chính một góc nhọn hoặc tù.\n",
      "Thân hộp nhóm C có thể là hình lăng trụ đáy tam giác, ngũ giác, lục giác hoặc bát giác, cũng có thể là hình chóp cụt, hình chóp với đáy là hình tam giác, hình chữ nhật, hình ngũ giác, hình bát giác. Tương tự như các hộp nhóm A, nắp và đáy của các hộp nhóm C cũng bao gồm các dạng cơ bản như: các dạng nắp gài, dạng đáy hộp cài khóa, dán khóa, hoặc cài xoắn tạo hình hoa trang trí, hoặc kết hợp phần nắp với tai treo, kết hợp nắp với quai xách... Các nắp và đáy của hộp thuộc nhóm C sẽ thay đổi hình dạng thích hợp với hình dạng của thân hộp và kiểu cài nắp, đáy (hình 2.44).\n",
      "Với một số dạng hộp nhóm C, sau khi bế cũng có thể dán hông trên thiết bị gấp dán hộp tự động nếu hộp có dạng hình lăng trụ. Riêng các dạng hộp hình chóp và hình chóp cụt việc dán hông sẽ thực hiện thủ công.\n",
      "* Các dạng hộp nhóm D: cũng có dạng khay giống nhóm B, không có dán nối ở cạnh hông, tuy nhiên một số mặt của hộp không phải là hình chữ nhật như khay nhóm B. Các khay nhóm D có thể là hình lăng trụ đáy tam giác, ngũ giác, lục giác hoặc bát giác; cũng có thể là hình chóp cụt với đáy là hình tam giác, hình chữ nhật, hình ngũ giác, hình bát giác. Giống như các khay nhóm B, các khay nhóm D ghép nối các cạnh bởi các cách gài góc khác nhau, hoặc dán ở các góc. Các thành của khay nhóm D cũng giống khay nhóm B có dạng thành một lớp, thành hai lớp, thành có bề dày, hoặc có nắp đậy (hình 2.45).\n"
     ]
    }
   ],
   "source": [
    "from util import *\n",
    "from retriever import *\n",
    "\n",
    "question = \"đặc điểm của bao bì từ hộp giấy bìa dạng hộp nhóm B\"\n",
    "en_question = vn_2_en(question)\n",
    "print(en_question)\n",
    "retriever = TreeRetriever(documents=split_docs)\n",
    "result = retriever.invoke(en_question)\n",
    "print(result.page_content)"
   ]
  },
  {
   "cell_type": "code",
   "execution_count": 10,
   "metadata": {},
   "outputs": [
    {
     "name": "stdout",
     "output_type": "stream",
     "text": [
      "page_content='Xác định các thông tin cần thiết: - Thông tin về sản phẩm:\n",
      "+ Kích thước và thể tích của sản phẩm bên trong\n",
      "+ Sản phẩm có cần không gian để dịch chuyển, hay cứng, hoặc có thể nén được\n",
      "+ Khối lượng sản phẩm\n",
      "+ Cấp độ của bao bì\n",
      "+ Số lượng sản phẩm trong bao bì\n",
      "+ Sản phẩm là chất khí, rắn, chất lỏng, bột hay kem: Nếu là chất khí phải quan tâm đến thể tích, áp suất khối lượng riêng, nhiệt độ. Nếu là chất lỏng cần quan tâm đến độ nhớt, dính, khả năng tạo hơi, khối lượng riêng.\n",
      "+ Tính chất dễ vỡ của sản phẩm và sự chống va đập cần thiết khi vận chuyển\n",
      "+ Bị hỏng khi mài mòn, va đập\n",
      "+ Có bị hư hỏng khi ẩm, có cần chống ẩm hay không\n",
      "+ Có mùi hay không\n",
      "+ Khả năng tạo khí\n",
      "+ Các yêu cầu đặc biệt để bảo quản\n",
      "+ Có dầu, mỡ...\n",
      "+ Nhạy cảm với nhiệt độ quá cao hoặc quá thấp\n",
      "+ Thay đổi màu sắc hay tính chất khi bị chiếu sáng\n",
      "+ Tính chất hóa học của sản phẩm: tính axít, tính kiềm, hoạt tính hóa học...\n",
      "- Thông tin về khách hàng\n",
      "+ Ai là người sử dụng (phụ nữ, đàn ông, độ tuổi, nhóm người nào)\n",
      "+ Cần ngăn cản trẻ em hay không\n",
      "- Nhóm thông tin về các yếu tố quảng cáo, thông tin:\n",
      "+ Đây là sản phẩm mới hay là một sản phẩm của một dòng sản phẩm đã có từ trước (người ta biết gì về sản phẩm này)\n",
      "+ Dạng bao bì này thường được đối thủ cạnh tranh sử dụng hay không\n",
      "+ Nhiều hay ít hình ảnh được yêu cầu in trên bao bì\n",
      "- Yếu tố sản xuất bao bì:\n",
      "+ Tính dễ in - phương pháp in\n",
      "+ Khả năng hàn dán đóng kín vật liệu\n",
      "- Nhóm thông tin về dây chuyền sản xuất bao bì và đóng gói\n",
      "+ Tự động hay thủ công\n",
      "+ Phương pháp đóng gói\n",
      "+ Thiết bị đóng gói\n",
      "+ Tốc độ đóng gói\n",
      "- Thông tin về quy định, luật định\n",
      "- Thông tin về quá trình, điều kiện lưu trữ, vận chuyển, phân phối, sử dụng sản phẩm\n",
      "+ Điều kiện lưu trữ, phân phối: nhiệt độ, độ ẩm, áp suất, ánh sáng\n",
      "+ Phương pháp tiệt trùng\n",
      "+ Tiếp xúc với hóa chất không\n",
      "+ Có tiếp xúc với nguồn sóng radio, sóng điện từ... không\n",
      "+ Có tiếp xúc với cácvi sinh: nấm mốc... không\n",
      "+ Tiện lợi khi đóng mở, hoặc đóng mở nhiều lần\n",
      "+ Cần pha chế, đo lường, trích... hay không\n",
      "- Giá thành cho phép' metadata={'summary': \"# Summary of Document: Development of Packaging Systems for Products\\n\\n## 2.1.2 Identification of Necessary Information\\n\\n- **Product Information:**\\n  - **Dimensions and Volume:** Size and internal volume of the product.\\n  - **Movement Space:** Whether the product requires space for movement, is rigid, or can be compressed.\\n  - **Weight:** The mass of the product.\\n  - **Packaging Level:** The degree of packaging required.\\n  - **Quantity:** Number of products per package.\\n  - **Product State:** Identification of the product as gas, solid, liquid, powder, or cream, with specific considerations for each state (e.g., gas requires attention to volume, pressure, density, and temperature; liquid requires viscosity, adhesion, vaporization, and density).\\n  - **Fragility:** Assessment of the product's fragility and necessary impact resistance during transport.\\n  - **Durability:** Vulnerability to wear, impact, and moisture; need for moisture protection.\\n  - **Odor and Gas Emission:** Presence of odor or gas generation.\\n  - **Storage Requirements:** Special preservation needs, sensitivity to temperature extremes, light exposure, and chemical properties (e.g., acidity, alkalinity, reactivity).\\n\\n- **Customer Information:**\\n  - **Target Audience:** Identification of the user demographic (e.g., gender, age, specific groups).\\n  - **Child Safety:** Consideration of whether the packaging needs to deter children.\\n\\n- **Advertising and Information Factors:**\\n  - **Product Novelty:** Whether the product is new or part of an existing line and existing consumer knowledge.\\n  - **Competitor Practices:** Common packaging styles used by competitors.\\n  - **Graphic Requirements:** Quantity of images to be printed on the packaging.\\n\\n- **Packaging Production Factors:**\\n  - **Printability:** Ease of printing and printing methods.\\n  - **Sealing Capability:** Ability to seal materials securely.\\n\\n- **Packaging and Filling Process Information:**\\n  - **Automation Level:** Whether the process is automated or manual.\\n  - **Filling Methods and Equipment:** Techniques and machinery used for packaging.\\n  - **Packaging Speed:** Rate of packaging operations.\\n\\n- **Regulatory Information:**\\n  - Compliance with relevant regulations and laws.\\n\\n- **Storage, Transport, and Usage Conditions:**\\n  - **Storage and Distribution Conditions:** Requirements for temperature, humidity, pressure, and light exposure.\\n  - **Sterilization Methods:** Techniques for ensuring product sterility.\\n  - **Chemical Exposure:** Consideration of exposure to chemicals and electromagnetic waves.\\n  - **Microbial Exposure:** Risk of contact with microorganisms like mold.\\n  - **Convenience Features:** Ease of opening and resealing, and whether mixing or measuring is required.\\n\\n- **Cost Considerations:** Budget constraints for packaging development.\", 'rank': 3, 'subtree': [], 'chapter': 'Chương 2: PHÁT TRIỂN HỆ THỐNG BAO BÌ CHO SẢN PHẨM', 'section': '2.1 QUÁ TRÌNH PHÁT TRIỂN HỆ THỐNG BAO BÌ CHO SẢN PHẢM', 'subsection': '2.1.2 Xác định các thông tin cần thiết', 'subsubsection': ''}\n"
     ]
    }
   ],
   "source": [
    "print(result)"
   ]
  },
  {
   "cell_type": "code",
   "execution_count": null,
   "metadata": {},
   "outputs": [],
   "source": []
  }
 ],
 "metadata": {
  "kernelspec": {
   "display_name": "env",
   "language": "python",
   "name": "python3"
  },
  "language_info": {
   "codemirror_mode": {
    "name": "ipython",
    "version": 3
   },
   "file_extension": ".py",
   "mimetype": "text/x-python",
   "name": "python",
   "nbconvert_exporter": "python",
   "pygments_lexer": "ipython3",
   "version": "3.10.10"
  }
 },
 "nbformat": 4,
 "nbformat_minor": 2
}
